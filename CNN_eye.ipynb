{
  "nbformat": 4,
  "nbformat_minor": 0,
  "metadata": {
    "colab": {
      "provenance": [],
      "authorship_tag": "ABX9TyPldDBjRa7F4ae+AhJYTitB",
      "include_colab_link": true
    },
    "kernelspec": {
      "name": "python3",
      "display_name": "Python 3"
    },
    "language_info": {
      "name": "python"
    }
  },
  "cells": [
    {
      "cell_type": "markdown",
      "metadata": {
        "id": "view-in-github",
        "colab_type": "text"
      },
      "source": [
        "<a href=\"https://colab.research.google.com/github/trahayan/btl/blob/main/CNN_eye.ipynb\" target=\"_parent\"><img src=\"https://colab.research.google.com/assets/colab-badge.svg\" alt=\"Open In Colab\"/></a>"
      ]
    },
    {
      "cell_type": "code",
      "execution_count": 1,
      "metadata": {
        "colab": {
          "base_uri": "https://localhost:8080/"
        },
        "id": "k4eEhXbx4-rq",
        "outputId": "f8464d60-3b89-4e2d-defd-a59eabc6e283"
      },
      "outputs": [
        {
          "output_type": "stream",
          "name": "stdout",
          "text": [
            "Mounted at /content/drive/\n"
          ]
        }
      ],
      "source": [
        "from google.colab import drive\n",
        "drive.mount(\"/content/drive/\")\n",
        "#import tensorflow as tf"
      ]
    },
    {
      "cell_type": "code",
      "source": [
        "cd /content"
      ],
      "metadata": {
        "colab": {
          "base_uri": "https://localhost:8080/"
        },
        "collapsed": true,
        "id": "_vV-u3eo6tSK",
        "outputId": "f87e22cd-36e7-4050-8227-6c382c00a3f7"
      },
      "execution_count": null,
      "outputs": [
        {
          "output_type": "stream",
          "name": "stdout",
          "text": [
            "/content\n"
          ]
        }
      ]
    },
    {
      "cell_type": "code",
      "source": [
        "!unzip Eye_diseases5.zip"
      ],
      "metadata": {
        "colab": {
          "base_uri": "https://localhost:8080/"
        },
        "collapsed": true,
        "id": "c2fuR6Y0ue0Q",
        "outputId": "b09c3040-73cd-4162-9f4a-69b8a643afe5"
      },
      "execution_count": null,
      "outputs": [
        {
          "output_type": "stream",
          "name": "stdout",
          "text": [
            "Archive:  Eye_diseases5.zip\n",
            "   creating: Eye_diseases/\n",
            "   creating: Eye_diseases/Bulging_Eyes/\n",
            "  inflating: Eye_diseases/Bulging_Eyes/1313.jpeg  \n",
            "  inflating: Eye_diseases/Bulging_Eyes/1515.jpeg  \n",
            "  inflating: Eye_diseases/Bulging_Eyes/22.jpeg  \n",
            "  inflating: Eye_diseases/Bulging_Eyes/33.jpeg  \n",
            "  inflating: Eye_diseases/Bulging_Eyes/55.jpeg  \n",
            "  inflating: Eye_diseases/Bulging_Eyes/image-10.jpeg  \n",
            "  inflating: Eye_diseases/Bulging_Eyes/image-11.jpeg  \n",
            "  inflating: Eye_diseases/Bulging_Eyes/image-12.jpeg  \n",
            "  inflating: Eye_diseases/Bulging_Eyes/image-13.jpeg  \n",
            "  inflating: Eye_diseases/Bulging_Eyes/image-2.jpeg  \n",
            "  inflating: Eye_diseases/Bulging_Eyes/image-3.jpeg  \n",
            "  inflating: Eye_diseases/Bulging_Eyes/image-4.jpeg  \n",
            "  inflating: Eye_diseases/Bulging_Eyes/image-5.jpeg  \n",
            "  inflating: Eye_diseases/Bulging_Eyes/image-6.jpeg  \n",
            "  inflating: Eye_diseases/Bulging_Eyes/image-7.jpeg  \n",
            "  inflating: Eye_diseases/Bulging_Eyes/image-9.jpeg  \n",
            "  inflating: Eye_diseases/Bulging_Eyes/image.jpeg  \n",
            "  inflating: Eye_diseases/Bulging_Eyes/images-10.jpeg  \n",
            "  inflating: Eye_diseases/Bulging_Eyes/images-11.jpeg  \n",
            "  inflating: Eye_diseases/Bulging_Eyes/images-12.jpeg  \n",
            "  inflating: Eye_diseases/Bulging_Eyes/images-15.jpeg  \n",
            "  inflating: Eye_diseases/Bulging_Eyes/images-2.jpeg  \n",
            "  inflating: Eye_diseases/Bulging_Eyes/images-3.jpeg  \n",
            "  inflating: Eye_diseases/Bulging_Eyes/images-6.jpeg  \n",
            "  inflating: Eye_diseases/Bulging_Eyes/images-7.jpeg  \n",
            "  inflating: Eye_diseases/Bulging_Eyes/images.jpeg  \n",
            "  inflating: Eye_diseases/Bulging_Eyes/nm-8.jpeg  \n",
            "   creating: Eye_diseases/Cataracts/\n",
            "  inflating: Eye_diseases/Cataracts/1515.jpeg  \n",
            "  inflating: Eye_diseases/Cataracts/image-10.jpeg  \n",
            "  inflating: Eye_diseases/Cataracts/image-12.jpeg  \n",
            "  inflating: Eye_diseases/Cataracts/image-13.jpeg  \n",
            "  inflating: Eye_diseases/Cataracts/image-14.jpeg  \n",
            "  inflating: Eye_diseases/Cataracts/image-16.jpeg  \n",
            "  inflating: Eye_diseases/Cataracts/image-17.jpeg  \n",
            "  inflating: Eye_diseases/Cataracts/image-18.jpeg  \n",
            "  inflating: Eye_diseases/Cataracts/image-19.jpeg  \n",
            "  inflating: Eye_diseases/Cataracts/image-2.jpeg  \n",
            "  inflating: Eye_diseases/Cataracts/image-20.jpeg  \n",
            "  inflating: Eye_diseases/Cataracts/image-22.jpeg  \n",
            "  inflating: Eye_diseases/Cataracts/image-23.jpeg  \n",
            "  inflating: Eye_diseases/Cataracts/image-24.jpeg  \n",
            "  inflating: Eye_diseases/Cataracts/image-4.jpeg  \n",
            "  inflating: Eye_diseases/Cataracts/image-5.jpeg  \n",
            "  inflating: Eye_diseases/Cataracts/image-6.jpeg  \n",
            "  inflating: Eye_diseases/Cataracts/images-11.jpeg  \n",
            "  inflating: Eye_diseases/Cataracts/images-13.jpeg  \n",
            "  inflating: Eye_diseases/Cataracts/images-18.jpeg  \n",
            "  inflating: Eye_diseases/Cataracts/images-19.jpeg  \n",
            "  inflating: Eye_diseases/Cataracts/images-20.jpeg  \n",
            "  inflating: Eye_diseases/Cataracts/images-23.jpeg  \n",
            "  inflating: Eye_diseases/Cataracts/images-24.jpeg  \n",
            "  inflating: Eye_diseases/Cataracts/images-25.jpeg  \n",
            "  inflating: Eye_diseases/Cataracts/images-26.jpeg  \n",
            "  inflating: Eye_diseases/Cataracts/images-29.jpeg  \n",
            "  inflating: Eye_diseases/Cataracts/images-30.jpeg  \n",
            "  inflating: Eye_diseases/Cataracts/images-31.jpeg  \n",
            "  inflating: Eye_diseases/Cataracts/images-32.jpeg  \n",
            "  inflating: Eye_diseases/Cataracts/images-35.jpeg  \n",
            "  inflating: Eye_diseases/Cataracts/images-36.jpeg  \n",
            "  inflating: Eye_diseases/Cataracts/images-37.jpeg  \n",
            "  inflating: Eye_diseases/Cataracts/images-38.jpeg  \n",
            "  inflating: Eye_diseases/Cataracts/images-39.jpeg  \n",
            "  inflating: Eye_diseases/Cataracts/images-41.jpeg  \n",
            "   creating: Eye_diseases/Crossed_Eyes/\n",
            "  inflating: Eye_diseases/Crossed_Eyes/image-10.jpeg  \n",
            "  inflating: Eye_diseases/Crossed_Eyes/image-11.jpeg  \n",
            "  inflating: Eye_diseases/Crossed_Eyes/image-12 - Copy.jpeg  \n",
            "  inflating: Eye_diseases/Crossed_Eyes/image-12.jpeg  \n",
            "  inflating: Eye_diseases/Crossed_Eyes/image-13.jpeg  \n",
            " extracting: Eye_diseases/Crossed_Eyes/image-14 - Copy (2).png  \n",
            " extracting: Eye_diseases/Crossed_Eyes/image-14 - Copy (3).png  \n",
            " extracting: Eye_diseases/Crossed_Eyes/image-14 - Copy.png  \n",
            " extracting: Eye_diseases/Crossed_Eyes/image-14.png  \n",
            "  inflating: Eye_diseases/Crossed_Eyes/image-15 - Copy.jpeg  \n",
            "  inflating: Eye_diseases/Crossed_Eyes/image-15.jpeg  \n",
            "  inflating: Eye_diseases/Crossed_Eyes/image-2.jpeg  \n",
            "  inflating: Eye_diseases/Crossed_Eyes/image-3.jpeg  \n",
            "  inflating: Eye_diseases/Crossed_Eyes/image-4.jpeg  \n",
            "  inflating: Eye_diseases/Crossed_Eyes/image-5.jpeg  \n",
            "  inflating: Eye_diseases/Crossed_Eyes/image-6.jpeg  \n",
            "  inflating: Eye_diseases/Crossed_Eyes/image-7 - Copy.jpeg  \n",
            "  inflating: Eye_diseases/Crossed_Eyes/image-7.jpeg  \n",
            "  inflating: Eye_diseases/Crossed_Eyes/image-8.jpeg  \n",
            "  inflating: Eye_diseases/Crossed_Eyes/image-9 - Copy (2).jpeg  \n",
            "  inflating: Eye_diseases/Crossed_Eyes/image-9 - Copy (3).jpeg  \n",
            "  inflating: Eye_diseases/Crossed_Eyes/image-9 - Copy.jpeg  \n",
            "  inflating: Eye_diseases/Crossed_Eyes/image-9.jpeg  \n",
            "  inflating: Eye_diseases/Crossed_Eyes/images - Copy (2).jpeg  \n",
            "  inflating: Eye_diseases/Crossed_Eyes/images - Copy (3).jpeg  \n",
            "  inflating: Eye_diseases/Crossed_Eyes/images - Copy.jpeg  \n",
            "  inflating: Eye_diseases/Crossed_Eyes/images-10.jpeg  \n",
            "  inflating: Eye_diseases/Crossed_Eyes/images-100.jpeg  \n",
            "  inflating: Eye_diseases/Crossed_Eyes/images-108.jpeg  \n",
            "  inflating: Eye_diseases/Crossed_Eyes/images-12.jpeg  \n",
            "  inflating: Eye_diseases/Crossed_Eyes/images-130.jpeg  \n",
            "  inflating: Eye_diseases/Crossed_Eyes/images-133.jpeg  \n",
            "  inflating: Eye_diseases/Crossed_Eyes/images-138.jpeg  \n",
            "  inflating: Eye_diseases/Crossed_Eyes/images-14.jpeg  \n",
            "  inflating: Eye_diseases/Crossed_Eyes/images-140.jpeg  \n",
            "  inflating: Eye_diseases/Crossed_Eyes/images-144.jpeg  \n",
            "  inflating: Eye_diseases/Crossed_Eyes/images-146.jpeg  \n",
            "  inflating: Eye_diseases/Crossed_Eyes/images-147.jpeg  \n",
            "  inflating: Eye_diseases/Crossed_Eyes/images-149.jpeg  \n",
            "  inflating: Eye_diseases/Crossed_Eyes/images-15.jpeg  \n",
            "  inflating: Eye_diseases/Crossed_Eyes/images-157.jpeg  \n",
            "  inflating: Eye_diseases/Crossed_Eyes/images-158.jpeg  \n",
            "  inflating: Eye_diseases/Crossed_Eyes/images-16.jpeg  \n",
            "  inflating: Eye_diseases/Crossed_Eyes/images-17.jpeg  \n",
            "  inflating: Eye_diseases/Crossed_Eyes/images-19.jpeg  \n",
            " extracting: Eye_diseases/Crossed_Eyes/images-2 - Copy.png  \n",
            " extracting: Eye_diseases/Crossed_Eyes/images-2.png  \n",
            "  inflating: Eye_diseases/Crossed_Eyes/images-20.jpeg  \n",
            "  inflating: Eye_diseases/Crossed_Eyes/images-21.jpeg  \n",
            "  inflating: Eye_diseases/Crossed_Eyes/images-22.jpeg  \n",
            "  inflating: Eye_diseases/Crossed_Eyes/images-23.jpeg  \n",
            "  inflating: Eye_diseases/Crossed_Eyes/images-24 - Copy.jpeg  \n",
            "  inflating: Eye_diseases/Crossed_Eyes/images-24.jpeg  \n",
            "  inflating: Eye_diseases/Crossed_Eyes/images-28.jpeg  \n",
            "  inflating: Eye_diseases/Crossed_Eyes/images-29.jpeg  \n",
            "  inflating: Eye_diseases/Crossed_Eyes/images-3.jpeg  \n",
            "  inflating: Eye_diseases/Crossed_Eyes/images-32.jpeg  \n",
            "  inflating: Eye_diseases/Crossed_Eyes/images-33.jpeg  \n",
            "  inflating: Eye_diseases/Crossed_Eyes/images-34 - Copy (2).jpeg  \n",
            "  inflating: Eye_diseases/Crossed_Eyes/images-34 - Copy (3).jpeg  \n",
            "  inflating: Eye_diseases/Crossed_Eyes/images-34 - Copy.jpeg  \n",
            "  inflating: Eye_diseases/Crossed_Eyes/images-34.jpeg  \n",
            "  inflating: Eye_diseases/Crossed_Eyes/images-35 - Copy (2).jpeg  \n",
            "  inflating: Eye_diseases/Crossed_Eyes/images-35 - Copy (3).jpeg  \n",
            "  inflating: Eye_diseases/Crossed_Eyes/images-35 - Copy.jpeg  \n",
            "  inflating: Eye_diseases/Crossed_Eyes/images-35.jpeg  \n",
            "  inflating: Eye_diseases/Crossed_Eyes/images-36 - Copy.jpeg  \n",
            "  inflating: Eye_diseases/Crossed_Eyes/images-36.jpeg  \n",
            "  inflating: Eye_diseases/Crossed_Eyes/images-37.jpeg  \n",
            "  inflating: Eye_diseases/Crossed_Eyes/images-39 - Copy (2).jpeg  \n",
            "  inflating: Eye_diseases/Crossed_Eyes/images-39 - Copy.jpeg  \n",
            "  inflating: Eye_diseases/Crossed_Eyes/images-39.jpeg  \n",
            "  inflating: Eye_diseases/Crossed_Eyes/images-4 - Copy.jpeg  \n",
            "  inflating: Eye_diseases/Crossed_Eyes/images-40.jpeg  \n",
            "  inflating: Eye_diseases/Crossed_Eyes/images-41 - Copy.jpeg  \n",
            "  inflating: Eye_diseases/Crossed_Eyes/images-43.jpeg  \n",
            "  inflating: Eye_diseases/Crossed_Eyes/images-44 - Copy (2).jpeg  \n",
            "  inflating: Eye_diseases/Crossed_Eyes/images-44 - Copy (3).jpeg  \n",
            "  inflating: Eye_diseases/Crossed_Eyes/images-44 - Copy.jpeg  \n",
            "  inflating: Eye_diseases/Crossed_Eyes/images-44.jpeg  \n",
            "  inflating: Eye_diseases/Crossed_Eyes/images-48.jpeg  \n",
            "  inflating: Eye_diseases/Crossed_Eyes/images-5 - Copy (2).jpeg  \n",
            "  inflating: Eye_diseases/Crossed_Eyes/images-5 - Copy (3).jpeg  \n",
            "  inflating: Eye_diseases/Crossed_Eyes/images-5 - Copy.jpeg  \n",
            "  inflating: Eye_diseases/Crossed_Eyes/images-5.jpeg  \n",
            "  inflating: Eye_diseases/Crossed_Eyes/images-50.jpeg  \n",
            "  inflating: Eye_diseases/Crossed_Eyes/images-52.jpeg  \n",
            "  inflating: Eye_diseases/Crossed_Eyes/images-53.jpeg  \n",
            "  inflating: Eye_diseases/Crossed_Eyes/images-55 - Copy (2).jpeg  \n",
            "  inflating: Eye_diseases/Crossed_Eyes/images-55 - Copy (3).jpeg  \n",
            "  inflating: Eye_diseases/Crossed_Eyes/images-55 - Copy.jpeg  \n",
            "  inflating: Eye_diseases/Crossed_Eyes/images-55.jpeg  \n",
            "  inflating: Eye_diseases/Crossed_Eyes/images-56.jpeg  \n",
            "  inflating: Eye_diseases/Crossed_Eyes/images-57.jpeg  \n",
            "  inflating: Eye_diseases/Crossed_Eyes/images-58.jpeg  \n",
            "  inflating: Eye_diseases/Crossed_Eyes/images-62.jpeg  \n",
            "  inflating: Eye_diseases/Crossed_Eyes/images-64.jpeg  \n",
            "  inflating: Eye_diseases/Crossed_Eyes/images-67 - Copy.jpeg  \n",
            "  inflating: Eye_diseases/Crossed_Eyes/images-67.jpeg  \n",
            "  inflating: Eye_diseases/Crossed_Eyes/images-7.jpeg  \n",
            "  inflating: Eye_diseases/Crossed_Eyes/images-70.jpeg  \n",
            "  inflating: Eye_diseases/Crossed_Eyes/images-71.jpeg  \n",
            "  inflating: Eye_diseases/Crossed_Eyes/images-72.jpeg  \n",
            "  inflating: Eye_diseases/Crossed_Eyes/images-8.jpeg  \n",
            "  inflating: Eye_diseases/Crossed_Eyes/images-83.jpeg  \n",
            "  inflating: Eye_diseases/Crossed_Eyes/images-84.jpeg  \n",
            "  inflating: Eye_diseases/Crossed_Eyes/images-88 - Copy.jpeg  \n",
            "  inflating: Eye_diseases/Crossed_Eyes/images-88.jpeg  \n",
            "  inflating: Eye_diseases/Crossed_Eyes/images-95 - Copy.jpeg  \n",
            "  inflating: Eye_diseases/Crossed_Eyes/images-95.jpeg  \n",
            "  inflating: Eye_diseases/Crossed_Eyes/images-98.jpeg  \n",
            "  inflating: Eye_diseases/Crossed_Eyes/images-99.jpeg  \n",
            "  inflating: Eye_diseases/Crossed_Eyes/images.jpeg  \n",
            "   creating: Eye_diseases/Glaucoma/\n",
            "  inflating: Eye_diseases/Glaucoma/image-10 - Copy.jpeg  \n",
            "  inflating: Eye_diseases/Glaucoma/image-10.jpeg  \n",
            "  inflating: Eye_diseases/Glaucoma/image-11.jpeg  \n",
            "  inflating: Eye_diseases/Glaucoma/image-12.jpeg  \n",
            "  inflating: Eye_diseases/Glaucoma/image-2.jpeg  \n",
            "  inflating: Eye_diseases/Glaucoma/image-3.jpeg  \n",
            "  inflating: Eye_diseases/Glaucoma/image-4.jpeg  \n",
            "  inflating: Eye_diseases/Glaucoma/image-5.jpeg  \n",
            "  inflating: Eye_diseases/Glaucoma/image-6.jpeg  \n",
            "  inflating: Eye_diseases/Glaucoma/image-7.jpeg  \n",
            "  inflating: Eye_diseases/Glaucoma/image-8 - Copy.jpeg  \n",
            "  inflating: Eye_diseases/Glaucoma/image-8.jpeg  \n",
            "  inflating: Eye_diseases/Glaucoma/image-9.jpeg  \n",
            "  inflating: Eye_diseases/Glaucoma/images-10.jpeg  \n",
            "  inflating: Eye_diseases/Glaucoma/images-11.jpeg  \n",
            "  inflating: Eye_diseases/Glaucoma/images-12.jpeg  \n",
            "  inflating: Eye_diseases/Glaucoma/images-13.jpeg  \n",
            "  inflating: Eye_diseases/Glaucoma/images-14.jpeg  \n",
            "  inflating: Eye_diseases/Glaucoma/images-15.jpeg  \n",
            "  inflating: Eye_diseases/Glaucoma/images-16.jpeg  \n",
            "  inflating: Eye_diseases/Glaucoma/images-18.jpeg  \n",
            "  inflating: Eye_diseases/Glaucoma/images-19.jpeg  \n",
            "  inflating: Eye_diseases/Glaucoma/images-2.jpeg  \n",
            "  inflating: Eye_diseases/Glaucoma/images-21.jpeg  \n",
            "  inflating: Eye_diseases/Glaucoma/images-23.jpeg  \n",
            "  inflating: Eye_diseases/Glaucoma/images-27.jpeg  \n",
            "  inflating: Eye_diseases/Glaucoma/images-29.jpeg  \n",
            "  inflating: Eye_diseases/Glaucoma/images-3.jpeg  \n",
            "  inflating: Eye_diseases/Glaucoma/images-32.jpeg  \n",
            "  inflating: Eye_diseases/Glaucoma/images-35.jpeg  \n",
            "  inflating: Eye_diseases/Glaucoma/images-38.jpeg  \n",
            "  inflating: Eye_diseases/Glaucoma/images-39.jpeg  \n",
            "  inflating: Eye_diseases/Glaucoma/images-4.jpeg  \n",
            "  inflating: Eye_diseases/Glaucoma/images-40.jpeg  \n",
            "  inflating: Eye_diseases/Glaucoma/images-41.jpeg  \n",
            "  inflating: Eye_diseases/Glaucoma/images-43.jpeg  \n",
            "  inflating: Eye_diseases/Glaucoma/images-5.jpeg  \n",
            "  inflating: Eye_diseases/Glaucoma/images-50.jpeg  \n",
            "  inflating: Eye_diseases/Glaucoma/images-51.jpeg  \n",
            "  inflating: Eye_diseases/Glaucoma/images-52.jpeg  \n",
            "  inflating: Eye_diseases/Glaucoma/images-53.jpeg  \n",
            "  inflating: Eye_diseases/Glaucoma/images-54.jpeg  \n",
            "  inflating: Eye_diseases/Glaucoma/images-55.jpeg  \n",
            "  inflating: Eye_diseases/Glaucoma/images-56.jpeg  \n",
            "  inflating: Eye_diseases/Glaucoma/images-58.jpeg  \n",
            "  inflating: Eye_diseases/Glaucoma/images-6.jpeg  \n",
            "  inflating: Eye_diseases/Glaucoma/images-65.jpeg  \n",
            "  inflating: Eye_diseases/Glaucoma/images-66.jpeg  \n",
            "  inflating: Eye_diseases/Glaucoma/images-68.jpeg  \n",
            "  inflating: Eye_diseases/Glaucoma/images-69.jpeg  \n",
            "  inflating: Eye_diseases/Glaucoma/images-70.jpeg  \n",
            "  inflating: Eye_diseases/Glaucoma/images-71.jpeg  \n",
            "  inflating: Eye_diseases/Glaucoma/images-72.jpeg  \n",
            "  inflating: Eye_diseases/Glaucoma/images-75.jpeg  \n",
            "  inflating: Eye_diseases/Glaucoma/images-79.jpeg  \n",
            "  inflating: Eye_diseases/Glaucoma/images-9.jpeg  \n",
            "   creating: Eye_diseases/Uveitis/\n",
            "  inflating: Eye_diseases/Uveitis/image-11.jpeg  \n",
            "  inflating: Eye_diseases/Uveitis/image-12.jpeg  \n",
            "  inflating: Eye_diseases/Uveitis/image-14.jpeg  \n",
            "  inflating: Eye_diseases/Uveitis/image-2.jpeg  \n",
            "  inflating: Eye_diseases/Uveitis/image-3.jpeg  \n",
            "  inflating: Eye_diseases/Uveitis/image-4.jpeg  \n",
            "  inflating: Eye_diseases/Uveitis/image-5.jpeg  \n",
            "  inflating: Eye_diseases/Uveitis/image-8.jpeg  \n",
            "  inflating: Eye_diseases/Uveitis/image-9.jpeg  \n",
            "  inflating: Eye_diseases/Uveitis/image.jpeg  \n",
            "  inflating: Eye_diseases/Uveitis/images-10.jpeg  \n",
            "  inflating: Eye_diseases/Uveitis/images-11.jpeg  \n",
            "  inflating: Eye_diseases/Uveitis/images-12.jpeg  \n",
            "  inflating: Eye_diseases/Uveitis/images-13.jpeg  \n",
            "  inflating: Eye_diseases/Uveitis/images-14.jpeg  \n",
            "  inflating: Eye_diseases/Uveitis/images-15.jpeg  \n",
            "  inflating: Eye_diseases/Uveitis/images-16.jpeg  \n",
            "  inflating: Eye_diseases/Uveitis/images-17.jpeg  \n",
            "  inflating: Eye_diseases/Uveitis/images-18.jpeg  \n",
            "  inflating: Eye_diseases/Uveitis/images-19.jpeg  \n",
            "  inflating: Eye_diseases/Uveitis/images-20.jpeg  \n",
            "  inflating: Eye_diseases/Uveitis/images-22.jpeg  \n",
            "  inflating: Eye_diseases/Uveitis/images-23.jpeg  \n",
            "  inflating: Eye_diseases/Uveitis/images-24.jpeg  \n",
            "  inflating: Eye_diseases/Uveitis/images-25.jpeg  \n",
            "  inflating: Eye_diseases/Uveitis/images-26.jpeg  \n",
            "  inflating: Eye_diseases/Uveitis/images-28.jpeg  \n",
            "  inflating: Eye_diseases/Uveitis/images-3.jpeg  \n",
            "  inflating: Eye_diseases/Uveitis/images-31.jpeg  \n",
            "  inflating: Eye_diseases/Uveitis/images-33.jpeg  \n",
            "  inflating: Eye_diseases/Uveitis/images-34.jpeg  \n",
            "  inflating: Eye_diseases/Uveitis/images-35.jpeg  \n",
            "  inflating: Eye_diseases/Uveitis/images-37.jpeg  \n",
            "  inflating: Eye_diseases/Uveitis/images-4.jpeg  \n",
            "  inflating: Eye_diseases/Uveitis/images-6.jpeg  \n",
            "  inflating: Eye_diseases/Uveitis/images-7.jpeg  \n",
            "  inflating: Eye_diseases/Uveitis/images-8.jpeg  \n",
            "  inflating: Eye_diseases/Uveitis/images.jpeg  \n"
          ]
        }
      ]
    },
    {
      "cell_type": "code",
      "source": [
        "import numpy as np\n",
        "import pandas as pd\n",
        "import os\n",
        "import matplotlib.pyplot as plt\n",
        "from sklearn.preprocessing import LabelEncoder\n",
        "import cv2\n",
        "from sklearn.model_selection import train_test_split\n",
        "from sklearn.utils import shuffle\n",
        "from tensorflow.keras.models import Model, Sequential\n",
        "from tensorflow.keras.layers import Dense, Dropout, GlobalAveragePooling2D, Flatten, Conv2D, MaxPool2D\n",
        "from tensorflow.keras.applications import VGG16\n",
        "from tensorflow.keras.preprocessing.image import ImageDataGenerator\n",
        "from tensorflow.keras.callbacks import EarlyStopping, ModelCheckpoint\n",
        "from tensorflow.keras.utils import to_categorical\n",
        "from tensorflow.keras.regularizers import l2\n",
        "\n",
        "# Define paths and constants\n",
        "PATH = \"./drive/MyDrive/Colab Notebooks/Data/Eye_diseases\"\n",
        "data_dir_list = os.listdir(PATH)"
      ],
      "metadata": {
        "id": "iEI7PEP_6Brk"
      },
      "execution_count": 3,
      "outputs": []
    },
    {
      "cell_type": "code",
      "source": [
        "# Load and preprocess data\n",
        "img_rows = 224\n",
        "img_cols = 224\n",
        "num_channel = 3\n",
        "img_data_list = []\n",
        "classes_names_list = []\n",
        "target_column = []\n",
        "\n",
        "for dataset in data_dir_list:\n",
        "    classes_names_list.append(dataset)\n",
        "    print(\"Loading data from {} folder\".format(dataset))\n",
        "    img_list = os.listdir(PATH + \"/\" + dataset)\n",
        "    for img in img_list:\n",
        "        input_img = cv2.imread(PATH + \"/\" + dataset + \"/\" + img)\n",
        "        input_img_resize = cv2.resize(input_img, (img_rows, img_cols))\n",
        "        img_data_list.append(input_img_resize)\n",
        "        target_column.append(dataset)\n",
        "\n",
        "num_classes = len(classes_names_list)\n",
        "print(\"num_classes\",num_classes)\n",
        "img_data = np.array(img_data_list)\n",
        "img_data = img_data.astype('float32')\n",
        "img_data /= 255\n",
        "print(\"Shape of image data\",img_data.shape)\n",
        "num_of_samples = img_data.shape[0]\n",
        "input_shape = img_data[0].shape\n",
        "\n",
        "# Encode labels\n",
        "Labelencoder = LabelEncoder()\n",
        "target_column = Labelencoder.fit_transform(target_column)\n",
        "target_column_hotcoded = to_categorical(target_column, num_classes)\n",
        "\n"
      ],
      "metadata": {
        "colab": {
          "base_uri": "https://localhost:8080/"
        },
        "id": "XfyJK5Qj7cNu",
        "outputId": "a618945b-0f22-484a-aebe-04515ab72545",
        "collapsed": true
      },
      "execution_count": 4,
      "outputs": [
        {
          "output_type": "stream",
          "name": "stdout",
          "text": [
            "Loading data from Bulging_Eyes folder\n",
            "Loading data from Cataracts folder\n",
            "Loading data from Crossed_Eyes folder\n",
            "Loading data from Glaucoma folder\n",
            "Loading data from Uveitis folder\n",
            "num_classes 5\n",
            "Shape of image data (270, 224, 224, 3)\n"
          ]
        }
      ]
    },
    {
      "cell_type": "code",
      "source": [
        "# Shuffle and split data\n",
        "X, Y = shuffle(img_data, target_column_hotcoded, random_state=2)\n",
        "X_train, X_temp, y_train, y_temp = train_test_split(X, Y, test_size=0.3, random_state=42)\n",
        "X_test, X_val, y_test, y_val = train_test_split(X_temp, y_temp, test_size=0.5, random_state=42)\n",
        "# Data augmentation\n",
        "datagen = ImageDataGenerator(\n",
        "    rotation_range=30,\n",
        "    width_shift_range=0.2,\n",
        "    height_shift_range=0.2,\n",
        "    shear_range=0.2,\n",
        "    zoom_range=0.2,\n",
        "    fill_mode='nearest'\n",
        ")\n",
        "\n",
        "train_generator = datagen.flow(X_train, y_train, batch_size=32)\n"
      ],
      "metadata": {
        "id": "rGnRYDmQiQRN"
      },
      "execution_count": 5,
      "outputs": []
    },
    {
      "cell_type": "code",
      "source": [
        "# Load VGG16 pretrained model\n",
        "base_model = VGG16(weights='imagenet', include_top=False, input_shape=(img_rows, img_cols, num_channel))\n",
        "\n",
        "\n",
        "for layer in base_model.layers[:-3]:\n",
        "    layer.trainable = False\n",
        "\n",
        "\n",
        "x = base_model.output\n",
        "x = GlobalAveragePooling2D()(x)\n",
        "x = Dense(128, activation='relu')(x)\n",
        "x = Dropout(0.2)(x)\n",
        "predictions = Dense(num_classes, activation='softmax')(x)\n",
        "\n",
        "\n",
        "model = Model(inputs=base_model.input, outputs=predictions)\n",
        "model.compile(optimizer='adam', loss='categorical_crossentropy', metrics=['accuracy'])\n",
        "\n",
        "model.summary()"
      ],
      "metadata": {
        "id": "jGTigiQX-TfU",
        "colab": {
          "base_uri": "https://localhost:8080/",
          "height": 881
        },
        "outputId": "5ae46015-a689-4b02-d735-9955ce525bd3"
      },
      "execution_count": 7,
      "outputs": [
        {
          "output_type": "display_data",
          "data": {
            "text/plain": [
              "\u001b[1mModel: \"functional_1\"\u001b[0m\n"
            ],
            "text/html": [
              "<pre style=\"white-space:pre;overflow-x:auto;line-height:normal;font-family:Menlo,'DejaVu Sans Mono',consolas,'Courier New',monospace\"><span style=\"font-weight: bold\">Model: \"functional_1\"</span>\n",
              "</pre>\n"
            ]
          },
          "metadata": {}
        },
        {
          "output_type": "display_data",
          "data": {
            "text/plain": [
              "┏━━━━━━━━━━━━━━━━━━━━━━━━━━━━━━━━━━━━━━┳━━━━━━━━━━━━━━━━━━━━━━━━━━━━━┳━━━━━━━━━━━━━━━━━┓\n",
              "┃\u001b[1m \u001b[0m\u001b[1mLayer (type)                        \u001b[0m\u001b[1m \u001b[0m┃\u001b[1m \u001b[0m\u001b[1mOutput Shape               \u001b[0m\u001b[1m \u001b[0m┃\u001b[1m \u001b[0m\u001b[1m        Param #\u001b[0m\u001b[1m \u001b[0m┃\n",
              "┡━━━━━━━━━━━━━━━━━━━━━━━━━━━━━━━━━━━━━━╇━━━━━━━━━━━━━━━━━━━━━━━━━━━━━╇━━━━━━━━━━━━━━━━━┩\n",
              "│ input_layer_1 (\u001b[38;5;33mInputLayer\u001b[0m)           │ (\u001b[38;5;45mNone\u001b[0m, \u001b[38;5;34m224\u001b[0m, \u001b[38;5;34m224\u001b[0m, \u001b[38;5;34m3\u001b[0m)         │               \u001b[38;5;34m0\u001b[0m │\n",
              "├──────────────────────────────────────┼─────────────────────────────┼─────────────────┤\n",
              "│ block1_conv1 (\u001b[38;5;33mConv2D\u001b[0m)                │ (\u001b[38;5;45mNone\u001b[0m, \u001b[38;5;34m224\u001b[0m, \u001b[38;5;34m224\u001b[0m, \u001b[38;5;34m64\u001b[0m)        │           \u001b[38;5;34m1,792\u001b[0m │\n",
              "├──────────────────────────────────────┼─────────────────────────────┼─────────────────┤\n",
              "│ block1_conv2 (\u001b[38;5;33mConv2D\u001b[0m)                │ (\u001b[38;5;45mNone\u001b[0m, \u001b[38;5;34m224\u001b[0m, \u001b[38;5;34m224\u001b[0m, \u001b[38;5;34m64\u001b[0m)        │          \u001b[38;5;34m36,928\u001b[0m │\n",
              "├──────────────────────────────────────┼─────────────────────────────┼─────────────────┤\n",
              "│ block1_pool (\u001b[38;5;33mMaxPooling2D\u001b[0m)           │ (\u001b[38;5;45mNone\u001b[0m, \u001b[38;5;34m112\u001b[0m, \u001b[38;5;34m112\u001b[0m, \u001b[38;5;34m64\u001b[0m)        │               \u001b[38;5;34m0\u001b[0m │\n",
              "├──────────────────────────────────────┼─────────────────────────────┼─────────────────┤\n",
              "│ block2_conv1 (\u001b[38;5;33mConv2D\u001b[0m)                │ (\u001b[38;5;45mNone\u001b[0m, \u001b[38;5;34m112\u001b[0m, \u001b[38;5;34m112\u001b[0m, \u001b[38;5;34m128\u001b[0m)       │          \u001b[38;5;34m73,856\u001b[0m │\n",
              "├──────────────────────────────────────┼─────────────────────────────┼─────────────────┤\n",
              "│ block2_conv2 (\u001b[38;5;33mConv2D\u001b[0m)                │ (\u001b[38;5;45mNone\u001b[0m, \u001b[38;5;34m112\u001b[0m, \u001b[38;5;34m112\u001b[0m, \u001b[38;5;34m128\u001b[0m)       │         \u001b[38;5;34m147,584\u001b[0m │\n",
              "├──────────────────────────────────────┼─────────────────────────────┼─────────────────┤\n",
              "│ block2_pool (\u001b[38;5;33mMaxPooling2D\u001b[0m)           │ (\u001b[38;5;45mNone\u001b[0m, \u001b[38;5;34m56\u001b[0m, \u001b[38;5;34m56\u001b[0m, \u001b[38;5;34m128\u001b[0m)         │               \u001b[38;5;34m0\u001b[0m │\n",
              "├──────────────────────────────────────┼─────────────────────────────┼─────────────────┤\n",
              "│ block3_conv1 (\u001b[38;5;33mConv2D\u001b[0m)                │ (\u001b[38;5;45mNone\u001b[0m, \u001b[38;5;34m56\u001b[0m, \u001b[38;5;34m56\u001b[0m, \u001b[38;5;34m256\u001b[0m)         │         \u001b[38;5;34m295,168\u001b[0m │\n",
              "├──────────────────────────────────────┼─────────────────────────────┼─────────────────┤\n",
              "│ block3_conv2 (\u001b[38;5;33mConv2D\u001b[0m)                │ (\u001b[38;5;45mNone\u001b[0m, \u001b[38;5;34m56\u001b[0m, \u001b[38;5;34m56\u001b[0m, \u001b[38;5;34m256\u001b[0m)         │         \u001b[38;5;34m590,080\u001b[0m │\n",
              "├──────────────────────────────────────┼─────────────────────────────┼─────────────────┤\n",
              "│ block3_conv3 (\u001b[38;5;33mConv2D\u001b[0m)                │ (\u001b[38;5;45mNone\u001b[0m, \u001b[38;5;34m56\u001b[0m, \u001b[38;5;34m56\u001b[0m, \u001b[38;5;34m256\u001b[0m)         │         \u001b[38;5;34m590,080\u001b[0m │\n",
              "├──────────────────────────────────────┼─────────────────────────────┼─────────────────┤\n",
              "│ block3_pool (\u001b[38;5;33mMaxPooling2D\u001b[0m)           │ (\u001b[38;5;45mNone\u001b[0m, \u001b[38;5;34m28\u001b[0m, \u001b[38;5;34m28\u001b[0m, \u001b[38;5;34m256\u001b[0m)         │               \u001b[38;5;34m0\u001b[0m │\n",
              "├──────────────────────────────────────┼─────────────────────────────┼─────────────────┤\n",
              "│ block4_conv1 (\u001b[38;5;33mConv2D\u001b[0m)                │ (\u001b[38;5;45mNone\u001b[0m, \u001b[38;5;34m28\u001b[0m, \u001b[38;5;34m28\u001b[0m, \u001b[38;5;34m512\u001b[0m)         │       \u001b[38;5;34m1,180,160\u001b[0m │\n",
              "├──────────────────────────────────────┼─────────────────────────────┼─────────────────┤\n",
              "│ block4_conv2 (\u001b[38;5;33mConv2D\u001b[0m)                │ (\u001b[38;5;45mNone\u001b[0m, \u001b[38;5;34m28\u001b[0m, \u001b[38;5;34m28\u001b[0m, \u001b[38;5;34m512\u001b[0m)         │       \u001b[38;5;34m2,359,808\u001b[0m │\n",
              "├──────────────────────────────────────┼─────────────────────────────┼─────────────────┤\n",
              "│ block4_conv3 (\u001b[38;5;33mConv2D\u001b[0m)                │ (\u001b[38;5;45mNone\u001b[0m, \u001b[38;5;34m28\u001b[0m, \u001b[38;5;34m28\u001b[0m, \u001b[38;5;34m512\u001b[0m)         │       \u001b[38;5;34m2,359,808\u001b[0m │\n",
              "├──────────────────────────────────────┼─────────────────────────────┼─────────────────┤\n",
              "│ block4_pool (\u001b[38;5;33mMaxPooling2D\u001b[0m)           │ (\u001b[38;5;45mNone\u001b[0m, \u001b[38;5;34m14\u001b[0m, \u001b[38;5;34m14\u001b[0m, \u001b[38;5;34m512\u001b[0m)         │               \u001b[38;5;34m0\u001b[0m │\n",
              "├──────────────────────────────────────┼─────────────────────────────┼─────────────────┤\n",
              "│ block5_conv1 (\u001b[38;5;33mConv2D\u001b[0m)                │ (\u001b[38;5;45mNone\u001b[0m, \u001b[38;5;34m14\u001b[0m, \u001b[38;5;34m14\u001b[0m, \u001b[38;5;34m512\u001b[0m)         │       \u001b[38;5;34m2,359,808\u001b[0m │\n",
              "├──────────────────────────────────────┼─────────────────────────────┼─────────────────┤\n",
              "│ block5_conv2 (\u001b[38;5;33mConv2D\u001b[0m)                │ (\u001b[38;5;45mNone\u001b[0m, \u001b[38;5;34m14\u001b[0m, \u001b[38;5;34m14\u001b[0m, \u001b[38;5;34m512\u001b[0m)         │       \u001b[38;5;34m2,359,808\u001b[0m │\n",
              "├──────────────────────────────────────┼─────────────────────────────┼─────────────────┤\n",
              "│ block5_conv3 (\u001b[38;5;33mConv2D\u001b[0m)                │ (\u001b[38;5;45mNone\u001b[0m, \u001b[38;5;34m14\u001b[0m, \u001b[38;5;34m14\u001b[0m, \u001b[38;5;34m512\u001b[0m)         │       \u001b[38;5;34m2,359,808\u001b[0m │\n",
              "├──────────────────────────────────────┼─────────────────────────────┼─────────────────┤\n",
              "│ block5_pool (\u001b[38;5;33mMaxPooling2D\u001b[0m)           │ (\u001b[38;5;45mNone\u001b[0m, \u001b[38;5;34m7\u001b[0m, \u001b[38;5;34m7\u001b[0m, \u001b[38;5;34m512\u001b[0m)           │               \u001b[38;5;34m0\u001b[0m │\n",
              "├──────────────────────────────────────┼─────────────────────────────┼─────────────────┤\n",
              "│ global_average_pooling2d_1           │ (\u001b[38;5;45mNone\u001b[0m, \u001b[38;5;34m512\u001b[0m)                 │               \u001b[38;5;34m0\u001b[0m │\n",
              "│ (\u001b[38;5;33mGlobalAveragePooling2D\u001b[0m)             │                             │                 │\n",
              "├──────────────────────────────────────┼─────────────────────────────┼─────────────────┤\n",
              "│ dense_2 (\u001b[38;5;33mDense\u001b[0m)                      │ (\u001b[38;5;45mNone\u001b[0m, \u001b[38;5;34m128\u001b[0m)                 │          \u001b[38;5;34m65,664\u001b[0m │\n",
              "├──────────────────────────────────────┼─────────────────────────────┼─────────────────┤\n",
              "│ dropout_1 (\u001b[38;5;33mDropout\u001b[0m)                  │ (\u001b[38;5;45mNone\u001b[0m, \u001b[38;5;34m128\u001b[0m)                 │               \u001b[38;5;34m0\u001b[0m │\n",
              "├──────────────────────────────────────┼─────────────────────────────┼─────────────────┤\n",
              "│ dense_3 (\u001b[38;5;33mDense\u001b[0m)                      │ (\u001b[38;5;45mNone\u001b[0m, \u001b[38;5;34m5\u001b[0m)                   │             \u001b[38;5;34m645\u001b[0m │\n",
              "└──────────────────────────────────────┴─────────────────────────────┴─────────────────┘\n"
            ],
            "text/html": [
              "<pre style=\"white-space:pre;overflow-x:auto;line-height:normal;font-family:Menlo,'DejaVu Sans Mono',consolas,'Courier New',monospace\">┏━━━━━━━━━━━━━━━━━━━━━━━━━━━━━━━━━━━━━━┳━━━━━━━━━━━━━━━━━━━━━━━━━━━━━┳━━━━━━━━━━━━━━━━━┓\n",
              "┃<span style=\"font-weight: bold\"> Layer (type)                         </span>┃<span style=\"font-weight: bold\"> Output Shape                </span>┃<span style=\"font-weight: bold\">         Param # </span>┃\n",
              "┡━━━━━━━━━━━━━━━━━━━━━━━━━━━━━━━━━━━━━━╇━━━━━━━━━━━━━━━━━━━━━━━━━━━━━╇━━━━━━━━━━━━━━━━━┩\n",
              "│ input_layer_1 (<span style=\"color: #0087ff; text-decoration-color: #0087ff\">InputLayer</span>)           │ (<span style=\"color: #00d7ff; text-decoration-color: #00d7ff\">None</span>, <span style=\"color: #00af00; text-decoration-color: #00af00\">224</span>, <span style=\"color: #00af00; text-decoration-color: #00af00\">224</span>, <span style=\"color: #00af00; text-decoration-color: #00af00\">3</span>)         │               <span style=\"color: #00af00; text-decoration-color: #00af00\">0</span> │\n",
              "├──────────────────────────────────────┼─────────────────────────────┼─────────────────┤\n",
              "│ block1_conv1 (<span style=\"color: #0087ff; text-decoration-color: #0087ff\">Conv2D</span>)                │ (<span style=\"color: #00d7ff; text-decoration-color: #00d7ff\">None</span>, <span style=\"color: #00af00; text-decoration-color: #00af00\">224</span>, <span style=\"color: #00af00; text-decoration-color: #00af00\">224</span>, <span style=\"color: #00af00; text-decoration-color: #00af00\">64</span>)        │           <span style=\"color: #00af00; text-decoration-color: #00af00\">1,792</span> │\n",
              "├──────────────────────────────────────┼─────────────────────────────┼─────────────────┤\n",
              "│ block1_conv2 (<span style=\"color: #0087ff; text-decoration-color: #0087ff\">Conv2D</span>)                │ (<span style=\"color: #00d7ff; text-decoration-color: #00d7ff\">None</span>, <span style=\"color: #00af00; text-decoration-color: #00af00\">224</span>, <span style=\"color: #00af00; text-decoration-color: #00af00\">224</span>, <span style=\"color: #00af00; text-decoration-color: #00af00\">64</span>)        │          <span style=\"color: #00af00; text-decoration-color: #00af00\">36,928</span> │\n",
              "├──────────────────────────────────────┼─────────────────────────────┼─────────────────┤\n",
              "│ block1_pool (<span style=\"color: #0087ff; text-decoration-color: #0087ff\">MaxPooling2D</span>)           │ (<span style=\"color: #00d7ff; text-decoration-color: #00d7ff\">None</span>, <span style=\"color: #00af00; text-decoration-color: #00af00\">112</span>, <span style=\"color: #00af00; text-decoration-color: #00af00\">112</span>, <span style=\"color: #00af00; text-decoration-color: #00af00\">64</span>)        │               <span style=\"color: #00af00; text-decoration-color: #00af00\">0</span> │\n",
              "├──────────────────────────────────────┼─────────────────────────────┼─────────────────┤\n",
              "│ block2_conv1 (<span style=\"color: #0087ff; text-decoration-color: #0087ff\">Conv2D</span>)                │ (<span style=\"color: #00d7ff; text-decoration-color: #00d7ff\">None</span>, <span style=\"color: #00af00; text-decoration-color: #00af00\">112</span>, <span style=\"color: #00af00; text-decoration-color: #00af00\">112</span>, <span style=\"color: #00af00; text-decoration-color: #00af00\">128</span>)       │          <span style=\"color: #00af00; text-decoration-color: #00af00\">73,856</span> │\n",
              "├──────────────────────────────────────┼─────────────────────────────┼─────────────────┤\n",
              "│ block2_conv2 (<span style=\"color: #0087ff; text-decoration-color: #0087ff\">Conv2D</span>)                │ (<span style=\"color: #00d7ff; text-decoration-color: #00d7ff\">None</span>, <span style=\"color: #00af00; text-decoration-color: #00af00\">112</span>, <span style=\"color: #00af00; text-decoration-color: #00af00\">112</span>, <span style=\"color: #00af00; text-decoration-color: #00af00\">128</span>)       │         <span style=\"color: #00af00; text-decoration-color: #00af00\">147,584</span> │\n",
              "├──────────────────────────────────────┼─────────────────────────────┼─────────────────┤\n",
              "│ block2_pool (<span style=\"color: #0087ff; text-decoration-color: #0087ff\">MaxPooling2D</span>)           │ (<span style=\"color: #00d7ff; text-decoration-color: #00d7ff\">None</span>, <span style=\"color: #00af00; text-decoration-color: #00af00\">56</span>, <span style=\"color: #00af00; text-decoration-color: #00af00\">56</span>, <span style=\"color: #00af00; text-decoration-color: #00af00\">128</span>)         │               <span style=\"color: #00af00; text-decoration-color: #00af00\">0</span> │\n",
              "├──────────────────────────────────────┼─────────────────────────────┼─────────────────┤\n",
              "│ block3_conv1 (<span style=\"color: #0087ff; text-decoration-color: #0087ff\">Conv2D</span>)                │ (<span style=\"color: #00d7ff; text-decoration-color: #00d7ff\">None</span>, <span style=\"color: #00af00; text-decoration-color: #00af00\">56</span>, <span style=\"color: #00af00; text-decoration-color: #00af00\">56</span>, <span style=\"color: #00af00; text-decoration-color: #00af00\">256</span>)         │         <span style=\"color: #00af00; text-decoration-color: #00af00\">295,168</span> │\n",
              "├──────────────────────────────────────┼─────────────────────────────┼─────────────────┤\n",
              "│ block3_conv2 (<span style=\"color: #0087ff; text-decoration-color: #0087ff\">Conv2D</span>)                │ (<span style=\"color: #00d7ff; text-decoration-color: #00d7ff\">None</span>, <span style=\"color: #00af00; text-decoration-color: #00af00\">56</span>, <span style=\"color: #00af00; text-decoration-color: #00af00\">56</span>, <span style=\"color: #00af00; text-decoration-color: #00af00\">256</span>)         │         <span style=\"color: #00af00; text-decoration-color: #00af00\">590,080</span> │\n",
              "├──────────────────────────────────────┼─────────────────────────────┼─────────────────┤\n",
              "│ block3_conv3 (<span style=\"color: #0087ff; text-decoration-color: #0087ff\">Conv2D</span>)                │ (<span style=\"color: #00d7ff; text-decoration-color: #00d7ff\">None</span>, <span style=\"color: #00af00; text-decoration-color: #00af00\">56</span>, <span style=\"color: #00af00; text-decoration-color: #00af00\">56</span>, <span style=\"color: #00af00; text-decoration-color: #00af00\">256</span>)         │         <span style=\"color: #00af00; text-decoration-color: #00af00\">590,080</span> │\n",
              "├──────────────────────────────────────┼─────────────────────────────┼─────────────────┤\n",
              "│ block3_pool (<span style=\"color: #0087ff; text-decoration-color: #0087ff\">MaxPooling2D</span>)           │ (<span style=\"color: #00d7ff; text-decoration-color: #00d7ff\">None</span>, <span style=\"color: #00af00; text-decoration-color: #00af00\">28</span>, <span style=\"color: #00af00; text-decoration-color: #00af00\">28</span>, <span style=\"color: #00af00; text-decoration-color: #00af00\">256</span>)         │               <span style=\"color: #00af00; text-decoration-color: #00af00\">0</span> │\n",
              "├──────────────────────────────────────┼─────────────────────────────┼─────────────────┤\n",
              "│ block4_conv1 (<span style=\"color: #0087ff; text-decoration-color: #0087ff\">Conv2D</span>)                │ (<span style=\"color: #00d7ff; text-decoration-color: #00d7ff\">None</span>, <span style=\"color: #00af00; text-decoration-color: #00af00\">28</span>, <span style=\"color: #00af00; text-decoration-color: #00af00\">28</span>, <span style=\"color: #00af00; text-decoration-color: #00af00\">512</span>)         │       <span style=\"color: #00af00; text-decoration-color: #00af00\">1,180,160</span> │\n",
              "├──────────────────────────────────────┼─────────────────────────────┼─────────────────┤\n",
              "│ block4_conv2 (<span style=\"color: #0087ff; text-decoration-color: #0087ff\">Conv2D</span>)                │ (<span style=\"color: #00d7ff; text-decoration-color: #00d7ff\">None</span>, <span style=\"color: #00af00; text-decoration-color: #00af00\">28</span>, <span style=\"color: #00af00; text-decoration-color: #00af00\">28</span>, <span style=\"color: #00af00; text-decoration-color: #00af00\">512</span>)         │       <span style=\"color: #00af00; text-decoration-color: #00af00\">2,359,808</span> │\n",
              "├──────────────────────────────────────┼─────────────────────────────┼─────────────────┤\n",
              "│ block4_conv3 (<span style=\"color: #0087ff; text-decoration-color: #0087ff\">Conv2D</span>)                │ (<span style=\"color: #00d7ff; text-decoration-color: #00d7ff\">None</span>, <span style=\"color: #00af00; text-decoration-color: #00af00\">28</span>, <span style=\"color: #00af00; text-decoration-color: #00af00\">28</span>, <span style=\"color: #00af00; text-decoration-color: #00af00\">512</span>)         │       <span style=\"color: #00af00; text-decoration-color: #00af00\">2,359,808</span> │\n",
              "├──────────────────────────────────────┼─────────────────────────────┼─────────────────┤\n",
              "│ block4_pool (<span style=\"color: #0087ff; text-decoration-color: #0087ff\">MaxPooling2D</span>)           │ (<span style=\"color: #00d7ff; text-decoration-color: #00d7ff\">None</span>, <span style=\"color: #00af00; text-decoration-color: #00af00\">14</span>, <span style=\"color: #00af00; text-decoration-color: #00af00\">14</span>, <span style=\"color: #00af00; text-decoration-color: #00af00\">512</span>)         │               <span style=\"color: #00af00; text-decoration-color: #00af00\">0</span> │\n",
              "├──────────────────────────────────────┼─────────────────────────────┼─────────────────┤\n",
              "│ block5_conv1 (<span style=\"color: #0087ff; text-decoration-color: #0087ff\">Conv2D</span>)                │ (<span style=\"color: #00d7ff; text-decoration-color: #00d7ff\">None</span>, <span style=\"color: #00af00; text-decoration-color: #00af00\">14</span>, <span style=\"color: #00af00; text-decoration-color: #00af00\">14</span>, <span style=\"color: #00af00; text-decoration-color: #00af00\">512</span>)         │       <span style=\"color: #00af00; text-decoration-color: #00af00\">2,359,808</span> │\n",
              "├──────────────────────────────────────┼─────────────────────────────┼─────────────────┤\n",
              "│ block5_conv2 (<span style=\"color: #0087ff; text-decoration-color: #0087ff\">Conv2D</span>)                │ (<span style=\"color: #00d7ff; text-decoration-color: #00d7ff\">None</span>, <span style=\"color: #00af00; text-decoration-color: #00af00\">14</span>, <span style=\"color: #00af00; text-decoration-color: #00af00\">14</span>, <span style=\"color: #00af00; text-decoration-color: #00af00\">512</span>)         │       <span style=\"color: #00af00; text-decoration-color: #00af00\">2,359,808</span> │\n",
              "├──────────────────────────────────────┼─────────────────────────────┼─────────────────┤\n",
              "│ block5_conv3 (<span style=\"color: #0087ff; text-decoration-color: #0087ff\">Conv2D</span>)                │ (<span style=\"color: #00d7ff; text-decoration-color: #00d7ff\">None</span>, <span style=\"color: #00af00; text-decoration-color: #00af00\">14</span>, <span style=\"color: #00af00; text-decoration-color: #00af00\">14</span>, <span style=\"color: #00af00; text-decoration-color: #00af00\">512</span>)         │       <span style=\"color: #00af00; text-decoration-color: #00af00\">2,359,808</span> │\n",
              "├──────────────────────────────────────┼─────────────────────────────┼─────────────────┤\n",
              "│ block5_pool (<span style=\"color: #0087ff; text-decoration-color: #0087ff\">MaxPooling2D</span>)           │ (<span style=\"color: #00d7ff; text-decoration-color: #00d7ff\">None</span>, <span style=\"color: #00af00; text-decoration-color: #00af00\">7</span>, <span style=\"color: #00af00; text-decoration-color: #00af00\">7</span>, <span style=\"color: #00af00; text-decoration-color: #00af00\">512</span>)           │               <span style=\"color: #00af00; text-decoration-color: #00af00\">0</span> │\n",
              "├──────────────────────────────────────┼─────────────────────────────┼─────────────────┤\n",
              "│ global_average_pooling2d_1           │ (<span style=\"color: #00d7ff; text-decoration-color: #00d7ff\">None</span>, <span style=\"color: #00af00; text-decoration-color: #00af00\">512</span>)                 │               <span style=\"color: #00af00; text-decoration-color: #00af00\">0</span> │\n",
              "│ (<span style=\"color: #0087ff; text-decoration-color: #0087ff\">GlobalAveragePooling2D</span>)             │                             │                 │\n",
              "├──────────────────────────────────────┼─────────────────────────────┼─────────────────┤\n",
              "│ dense_2 (<span style=\"color: #0087ff; text-decoration-color: #0087ff\">Dense</span>)                      │ (<span style=\"color: #00d7ff; text-decoration-color: #00d7ff\">None</span>, <span style=\"color: #00af00; text-decoration-color: #00af00\">128</span>)                 │          <span style=\"color: #00af00; text-decoration-color: #00af00\">65,664</span> │\n",
              "├──────────────────────────────────────┼─────────────────────────────┼─────────────────┤\n",
              "│ dropout_1 (<span style=\"color: #0087ff; text-decoration-color: #0087ff\">Dropout</span>)                  │ (<span style=\"color: #00d7ff; text-decoration-color: #00d7ff\">None</span>, <span style=\"color: #00af00; text-decoration-color: #00af00\">128</span>)                 │               <span style=\"color: #00af00; text-decoration-color: #00af00\">0</span> │\n",
              "├──────────────────────────────────────┼─────────────────────────────┼─────────────────┤\n",
              "│ dense_3 (<span style=\"color: #0087ff; text-decoration-color: #0087ff\">Dense</span>)                      │ (<span style=\"color: #00d7ff; text-decoration-color: #00d7ff\">None</span>, <span style=\"color: #00af00; text-decoration-color: #00af00\">5</span>)                   │             <span style=\"color: #00af00; text-decoration-color: #00af00\">645</span> │\n",
              "└──────────────────────────────────────┴─────────────────────────────┴─────────────────┘\n",
              "</pre>\n"
            ]
          },
          "metadata": {}
        },
        {
          "output_type": "display_data",
          "data": {
            "text/plain": [
              "\u001b[1m Total params: \u001b[0m\u001b[38;5;34m14,780,997\u001b[0m (56.39 MB)\n"
            ],
            "text/html": [
              "<pre style=\"white-space:pre;overflow-x:auto;line-height:normal;font-family:Menlo,'DejaVu Sans Mono',consolas,'Courier New',monospace\"><span style=\"font-weight: bold\"> Total params: </span><span style=\"color: #00af00; text-decoration-color: #00af00\">14,780,997</span> (56.39 MB)\n",
              "</pre>\n"
            ]
          },
          "metadata": {}
        },
        {
          "output_type": "display_data",
          "data": {
            "text/plain": [
              "\u001b[1m Trainable params: \u001b[0m\u001b[38;5;34m4,785,925\u001b[0m (18.26 MB)\n"
            ],
            "text/html": [
              "<pre style=\"white-space:pre;overflow-x:auto;line-height:normal;font-family:Menlo,'DejaVu Sans Mono',consolas,'Courier New',monospace\"><span style=\"font-weight: bold\"> Trainable params: </span><span style=\"color: #00af00; text-decoration-color: #00af00\">4,785,925</span> (18.26 MB)\n",
              "</pre>\n"
            ]
          },
          "metadata": {}
        },
        {
          "output_type": "display_data",
          "data": {
            "text/plain": [
              "\u001b[1m Non-trainable params: \u001b[0m\u001b[38;5;34m9,995,072\u001b[0m (38.13 MB)\n"
            ],
            "text/html": [
              "<pre style=\"white-space:pre;overflow-x:auto;line-height:normal;font-family:Menlo,'DejaVu Sans Mono',consolas,'Courier New',monospace\"><span style=\"font-weight: bold\"> Non-trainable params: </span><span style=\"color: #00af00; text-decoration-color: #00af00\">9,995,072</span> (38.13 MB)\n",
              "</pre>\n"
            ]
          },
          "metadata": {}
        }
      ]
    },
    {
      "cell_type": "code",
      "source": [
        "# Train model VGG có tăng cường DL\n",
        "num_epoch = 50\n",
        "batch_size = 32\n",
        "steps_per_epoch = max(len(X_train) // batch_size, 1)\n",
        "early_stop = EarlyStopping(\n",
        "    monitor='val_loss',  # Theo dõi tổn thất trên tập kiểm định\n",
        "    patience=5,          # Dừng nếu val_loss không cải thiện sau 5 epoch\n",
        "    restore_best_weights=True  # Khôi phục trọng số tốt nhất\n",
        ")\n",
        "history1 = model.fit(\n",
        "    train_generator,\n",
        "    steps_per_epoch=steps_per_epoch,\n",
        "    epochs=num_epoch,\n",
        "    validation_data=(X_val, y_val),\n",
        "    verbose=1,\n",
        "    callbacks=[early_stop],\n",
        ")\n",
        "\n",
        "# Evaluate model\n",
        "score = model.evaluate(X_test, y_test)\n",
        "print(\"Test loss:\", score[0])\n",
        "print(\"Test accuracy:\", score[1])\n"
      ],
      "metadata": {
        "colab": {
          "base_uri": "https://localhost:8080/"
        },
        "id": "09IJ9w5Yi8f7",
        "outputId": "c57e0c2e-5ac1-4238-80d3-88fb226037ff",
        "collapsed": true
      },
      "execution_count": null,
      "outputs": [
        {
          "output_type": "stream",
          "name": "stdout",
          "text": [
            "Epoch 1/50\n"
          ]
        },
        {
          "output_type": "stream",
          "name": "stderr",
          "text": [
            "/usr/local/lib/python3.10/dist-packages/keras/src/trainers/data_adapters/py_dataset_adapter.py:122: UserWarning: Your `PyDataset` class should call `super().__init__(**kwargs)` in its constructor. `**kwargs` can include `workers`, `use_multiprocessing`, `max_queue_size`. Do not pass these arguments to `fit()`, as they will be ignored.\n",
            "  self._warn_if_super_not_called()\n"
          ]
        },
        {
          "output_type": "stream",
          "name": "stdout",
          "text": [
            "\u001b[1m5/5\u001b[0m \u001b[32m━━━━━━━━━━━━━━━━━━━━\u001b[0m\u001b[37m\u001b[0m \u001b[1m11s\u001b[0m 1s/step - accuracy: 0.3295 - loss: 2.3831 - val_accuracy: 0.5366 - val_loss: 1.5886\n",
            "Epoch 2/50\n",
            "\u001b[1m5/5\u001b[0m \u001b[32m━━━━━━━━━━━━━━━━━━━━\u001b[0m\u001b[37m\u001b[0m \u001b[1m0s\u001b[0m 65ms/step - accuracy: 0.1250 - loss: 2.2607 - val_accuracy: 0.5366 - val_loss: 1.4454\n",
            "Epoch 3/50\n",
            "\u001b[1m5/5\u001b[0m \u001b[32m━━━━━━━━━━━━━━━━━━━━\u001b[0m\u001b[37m\u001b[0m \u001b[1m3s\u001b[0m 226ms/step - accuracy: 0.4206 - loss: 1.4799 - val_accuracy: 0.6341 - val_loss: 1.2899\n",
            "Epoch 4/50\n",
            "\u001b[1m5/5\u001b[0m \u001b[32m━━━━━━━━━━━━━━━━━━━━\u001b[0m\u001b[37m\u001b[0m \u001b[1m0s\u001b[0m 73ms/step - accuracy: 0.4062 - loss: 1.2839 - val_accuracy: 0.5122 - val_loss: 1.2014\n",
            "Epoch 5/50\n",
            "\u001b[1m5/5\u001b[0m \u001b[32m━━━━━━━━━━━━━━━━━━━━\u001b[0m\u001b[37m\u001b[0m \u001b[1m4s\u001b[0m 256ms/step - accuracy: 0.4563 - loss: 1.3553 - val_accuracy: 0.6098 - val_loss: 1.0643\n",
            "Epoch 6/50\n",
            "\u001b[1m5/5\u001b[0m \u001b[32m━━━━━━━━━━━━━━━━━━━━\u001b[0m\u001b[37m\u001b[0m \u001b[1m0s\u001b[0m 55ms/step - accuracy: 0.5000 - loss: 1.0887 - val_accuracy: 0.6341 - val_loss: 1.1593\n",
            "Epoch 7/50\n",
            "\u001b[1m5/5\u001b[0m \u001b[32m━━━━━━━━━━━━━━━━━━━━\u001b[0m\u001b[37m\u001b[0m \u001b[1m3s\u001b[0m 223ms/step - accuracy: 0.5619 - loss: 1.2272 - val_accuracy: 0.6341 - val_loss: 0.9524\n",
            "Epoch 8/50\n",
            "\u001b[1m5/5\u001b[0m \u001b[32m━━━━━━━━━━━━━━━━━━━━\u001b[0m\u001b[37m\u001b[0m \u001b[1m0s\u001b[0m 83ms/step - accuracy: 0.5938 - loss: 0.9321 - val_accuracy: 0.5854 - val_loss: 1.1351\n",
            "Epoch 9/50\n",
            "\u001b[1m5/5\u001b[0m \u001b[32m━━━━━━━━━━━━━━━━━━━━\u001b[0m\u001b[37m\u001b[0m \u001b[1m5s\u001b[0m 212ms/step - accuracy: 0.4939 - loss: 1.1833 - val_accuracy: 0.5122 - val_loss: 1.0354\n",
            "Epoch 10/50\n",
            "\u001b[1m5/5\u001b[0m \u001b[32m━━━━━━━━━━━━━━━━━━━━\u001b[0m\u001b[37m\u001b[0m \u001b[1m0s\u001b[0m 55ms/step - accuracy: 0.4688 - loss: 1.1077 - val_accuracy: 0.5122 - val_loss: 1.0226\n",
            "Epoch 11/50\n",
            "\u001b[1m5/5\u001b[0m \u001b[32m━━━━━━━━━━━━━━━━━━━━\u001b[0m\u001b[37m\u001b[0m \u001b[1m4s\u001b[0m 221ms/step - accuracy: 0.5199 - loss: 1.0704 - val_accuracy: 0.6341 - val_loss: 0.9005\n",
            "Epoch 12/50\n",
            "\u001b[1m5/5\u001b[0m \u001b[32m━━━━━━━━━━━━━━━━━━━━\u001b[0m\u001b[37m\u001b[0m \u001b[1m1s\u001b[0m 96ms/step - accuracy: 0.6562 - loss: 0.9366 - val_accuracy: 0.7317 - val_loss: 0.8732\n",
            "Epoch 13/50\n",
            "\u001b[1m5/5\u001b[0m \u001b[32m━━━━━━━━━━━━━━━━━━━━\u001b[0m\u001b[37m\u001b[0m \u001b[1m4s\u001b[0m 218ms/step - accuracy: 0.5500 - loss: 0.9987 - val_accuracy: 0.7073 - val_loss: 0.8021\n",
            "Epoch 14/50\n",
            "\u001b[1m5/5\u001b[0m \u001b[32m━━━━━━━━━━━━━━━━━━━━\u001b[0m\u001b[37m\u001b[0m \u001b[1m0s\u001b[0m 82ms/step - accuracy: 0.6875 - loss: 0.9385 - val_accuracy: 0.7073 - val_loss: 0.8305\n",
            "Epoch 15/50\n",
            "\u001b[1m5/5\u001b[0m \u001b[32m━━━━━━━━━━━━━━━━━━━━\u001b[0m\u001b[37m\u001b[0m \u001b[1m3s\u001b[0m 245ms/step - accuracy: 0.6736 - loss: 0.8346 - val_accuracy: 0.6585 - val_loss: 0.7939\n",
            "Epoch 16/50\n",
            "\u001b[1m5/5\u001b[0m \u001b[32m━━━━━━━━━━━━━━━━━━━━\u001b[0m\u001b[37m\u001b[0m \u001b[1m1s\u001b[0m 92ms/step - accuracy: 0.6875 - loss: 0.6809 - val_accuracy: 0.6585 - val_loss: 0.7855\n",
            "Epoch 17/50\n",
            "\u001b[1m5/5\u001b[0m \u001b[32m━━━━━━━━━━━━━━━━━━━━\u001b[0m\u001b[37m\u001b[0m \u001b[1m3s\u001b[0m 220ms/step - accuracy: 0.5971 - loss: 0.9331 - val_accuracy: 0.6829 - val_loss: 0.7451\n",
            "Epoch 18/50\n",
            "\u001b[1m5/5\u001b[0m \u001b[32m━━━━━━━━━━━━━━━━━━━━\u001b[0m\u001b[37m\u001b[0m \u001b[1m1s\u001b[0m 94ms/step - accuracy: 0.5312 - loss: 0.8304 - val_accuracy: 0.6829 - val_loss: 0.7369\n",
            "Epoch 19/50\n",
            "\u001b[1m5/5\u001b[0m \u001b[32m━━━━━━━━━━━━━━━━━━━━\u001b[0m\u001b[37m\u001b[0m \u001b[1m4s\u001b[0m 244ms/step - accuracy: 0.6406 - loss: 0.8070 - val_accuracy: 0.7073 - val_loss: 0.6805\n",
            "Epoch 20/50\n",
            "\u001b[1m5/5\u001b[0m \u001b[32m━━━━━━━━━━━━━━━━━━━━\u001b[0m\u001b[37m\u001b[0m \u001b[1m0s\u001b[0m 82ms/step - accuracy: 0.7586 - loss: 0.5686 - val_accuracy: 0.7317 - val_loss: 0.7260\n",
            "Epoch 21/50\n",
            "\u001b[1m5/5\u001b[0m \u001b[32m━━━━━━━━━━━━━━━━━━━━\u001b[0m\u001b[37m\u001b[0m \u001b[1m3s\u001b[0m 221ms/step - accuracy: 0.7097 - loss: 0.7964 - val_accuracy: 0.7073 - val_loss: 0.6123\n",
            "Epoch 22/50\n",
            "\u001b[1m5/5\u001b[0m \u001b[32m━━━━━━━━━━━━━━━━━━━━\u001b[0m\u001b[37m\u001b[0m \u001b[1m0s\u001b[0m 63ms/step - accuracy: 0.7500 - loss: 0.7345 - val_accuracy: 0.7073 - val_loss: 0.5962\n",
            "Epoch 23/50\n",
            "\u001b[1m5/5\u001b[0m \u001b[32m━━━━━━━━━━━━━━━━━━━━\u001b[0m\u001b[37m\u001b[0m \u001b[1m5s\u001b[0m 203ms/step - accuracy: 0.6116 - loss: 0.8493 - val_accuracy: 0.6829 - val_loss: 0.6709\n",
            "Epoch 24/50\n",
            "\u001b[1m5/5\u001b[0m \u001b[32m━━━━━━━━━━━━━━━━━━━━\u001b[0m\u001b[37m\u001b[0m \u001b[1m0s\u001b[0m 53ms/step - accuracy: 0.6875 - loss: 0.6210 - val_accuracy: 0.7073 - val_loss: 0.6795\n",
            "Epoch 25/50\n",
            "\u001b[1m5/5\u001b[0m \u001b[32m━━━━━━━━━━━━━━━━━━━━\u001b[0m\u001b[37m\u001b[0m \u001b[1m6s\u001b[0m 214ms/step - accuracy: 0.7864 - loss: 0.5492 - val_accuracy: 0.8049 - val_loss: 0.5722\n",
            "Epoch 26/50\n",
            "\u001b[1m5/5\u001b[0m \u001b[32m━━━━━━━━━━━━━━━━━━━━\u001b[0m\u001b[37m\u001b[0m \u001b[1m1s\u001b[0m 91ms/step - accuracy: 0.6552 - loss: 0.7618 - val_accuracy: 0.7317 - val_loss: 0.5635\n",
            "Epoch 27/50\n",
            "\u001b[1m5/5\u001b[0m \u001b[32m━━━━━━━━━━━━━━━━━━━━\u001b[0m\u001b[37m\u001b[0m \u001b[1m4s\u001b[0m 204ms/step - accuracy: 0.6999 - loss: 0.6020 - val_accuracy: 0.7073 - val_loss: 0.8176\n",
            "Epoch 28/50\n",
            "\u001b[1m5/5\u001b[0m \u001b[32m━━━━━━━━━━━━━━━━━━━━\u001b[0m\u001b[37m\u001b[0m \u001b[1m0s\u001b[0m 52ms/step - accuracy: 0.7812 - loss: 0.5245 - val_accuracy: 0.7073 - val_loss: 0.7846\n",
            "Epoch 29/50\n",
            "\u001b[1m5/5\u001b[0m \u001b[32m━━━━━━━━━━━━━━━━━━━━\u001b[0m\u001b[37m\u001b[0m \u001b[1m5s\u001b[0m 205ms/step - accuracy: 0.7832 - loss: 0.5354 - val_accuracy: 0.6585 - val_loss: 0.8246\n",
            "Epoch 30/50\n",
            "\u001b[1m5/5\u001b[0m \u001b[32m━━━━━━━━━━━━━━━━━━━━\u001b[0m\u001b[37m\u001b[0m \u001b[1m0s\u001b[0m 86ms/step - accuracy: 0.6250 - loss: 0.8991 - val_accuracy: 0.7073 - val_loss: 0.5972\n",
            "Epoch 31/50\n",
            "\u001b[1m5/5\u001b[0m \u001b[32m━━━━━━━━━━━━━━━━━━━━\u001b[0m\u001b[37m\u001b[0m \u001b[1m4s\u001b[0m 210ms/step - accuracy: 0.7417 - loss: 0.6479 - val_accuracy: 0.6829 - val_loss: 0.8533\n",
            "\u001b[1m2/2\u001b[0m \u001b[32m━━━━━━━━━━━━━━━━━━━━\u001b[0m\u001b[37m\u001b[0m \u001b[1m1s\u001b[0m 554ms/step - accuracy: 0.8042 - loss: 0.6035\n",
            "Test loss: 0.6136631965637207\n",
            "Test accuracy: 0.800000011920929\n"
          ]
        }
      ]
    },
    {
      "cell_type": "code",
      "source": [
        "#Train VGG ko tăng cường dữ liệu\n",
        "num_epoch = 50\n",
        "batch_size = 32\n",
        "steps_per_epoch = max(len(X_train) // batch_size, 1)\n",
        "early_stop = EarlyStopping(\n",
        "    monitor='val_loss',  # Theo dõi tổn thất trên tập kiểm định\n",
        "    patience=5,          # Dừng nếu val_loss không cải thiện sau 5 epoch\n",
        "    restore_best_weights=True  # Khôi phục trọng số tốt nhất\n",
        ")\n",
        "history=model.fit(X_train,y_train,batch_size=batch_size,epochs=num_epoch,verbose=1,validation_data=(X_val,y_val), callbacks=[early_stop])\n",
        "score = model.evaluate(X_test, y_test)\n",
        "print(\"Test loss:\", score[0])\n",
        "print(\"Test accuracy:\", score[1])"
      ],
      "metadata": {
        "colab": {
          "base_uri": "https://localhost:8080/",
          "height": 523
        },
        "id": "KZxlJtinuwdO",
        "outputId": "7fe495c0-da68-43cf-954d-ea5b202ec8ba"
      },
      "execution_count": null,
      "outputs": [
        {
          "output_type": "stream",
          "name": "stdout",
          "text": [
            "Epoch 1/50\n",
            "\u001b[1m6/6\u001b[0m \u001b[32m━━━━━━━━━━━━━━━━━━━━\u001b[0m\u001b[37m\u001b[0m \u001b[1m1s\u001b[0m 226ms/step - accuracy: 0.9760 - loss: 0.0994 - val_accuracy: 0.7805 - val_loss: 0.6652\n",
            "Epoch 2/50\n",
            "\u001b[1m6/6\u001b[0m \u001b[32m━━━━━━━━━━━━━━━━━━━━\u001b[0m\u001b[37m\u001b[0m \u001b[1m1s\u001b[0m 225ms/step - accuracy: 0.9928 - loss: 0.0679 - val_accuracy: 0.7561 - val_loss: 0.7798\n",
            "Epoch 3/50\n",
            "\u001b[1m6/6\u001b[0m \u001b[32m━━━━━━━━━━━━━━━━━━━━\u001b[0m\u001b[37m\u001b[0m \u001b[1m1s\u001b[0m 207ms/step - accuracy: 0.9950 - loss: 0.0444 - val_accuracy: 0.8293 - val_loss: 0.7408\n",
            "Epoch 4/50\n",
            "\u001b[1m6/6\u001b[0m \u001b[32m━━━━━━━━━━━━━━━━━━━━\u001b[0m\u001b[37m\u001b[0m \u001b[1m1s\u001b[0m 231ms/step - accuracy: 1.0000 - loss: 0.0272 - val_accuracy: 0.8293 - val_loss: 0.6062\n",
            "Epoch 5/50\n",
            "\u001b[1m6/6\u001b[0m \u001b[32m━━━━━━━━━━━━━━━━━━━━\u001b[0m\u001b[37m\u001b[0m \u001b[1m1s\u001b[0m 207ms/step - accuracy: 1.0000 - loss: 0.0146 - val_accuracy: 0.7805 - val_loss: 0.8448\n",
            "Epoch 6/50\n",
            "\u001b[1m6/6\u001b[0m \u001b[32m━━━━━━━━━━━━━━━━━━━━\u001b[0m\u001b[37m\u001b[0m \u001b[1m1s\u001b[0m 208ms/step - accuracy: 1.0000 - loss: 0.0085 - val_accuracy: 0.8049 - val_loss: 0.8501\n",
            "Epoch 7/50\n",
            "\u001b[1m6/6\u001b[0m \u001b[32m━━━━━━━━━━━━━━━━━━━━\u001b[0m\u001b[37m\u001b[0m \u001b[1m1s\u001b[0m 232ms/step - accuracy: 1.0000 - loss: 0.0043 - val_accuracy: 0.7805 - val_loss: 1.1207\n",
            "Epoch 8/50\n",
            "\u001b[1m6/6\u001b[0m \u001b[32m━━━━━━━━━━━━━━━━━━━━\u001b[0m\u001b[37m\u001b[0m \u001b[1m1s\u001b[0m 233ms/step - accuracy: 1.0000 - loss: 0.0040 - val_accuracy: 0.8537 - val_loss: 0.9724\n",
            "Epoch 9/50\n",
            "\u001b[1m6/6\u001b[0m \u001b[32m━━━━━━━━━━━━━━━━━━━━\u001b[0m\u001b[37m\u001b[0m \u001b[1m2s\u001b[0m 208ms/step - accuracy: 1.0000 - loss: 0.0054 - val_accuracy: 0.8049 - val_loss: 0.9313\n"
          ]
        },
        {
          "output_type": "error",
          "ename": "AttributeError",
          "evalue": "'History' object has no attribute 'evaluate'",
          "traceback": [
            "\u001b[0;31m---------------------------------------------------------------------------\u001b[0m",
            "\u001b[0;31mAttributeError\u001b[0m                            Traceback (most recent call last)",
            "\u001b[0;32m<ipython-input-26-3e1810f4e513>\u001b[0m in \u001b[0;36m<cell line: 11>\u001b[0;34m()\u001b[0m\n\u001b[1;32m      9\u001b[0m )\n\u001b[1;32m     10\u001b[0m \u001b[0mhistory\u001b[0m\u001b[0;34m=\u001b[0m\u001b[0mmodel\u001b[0m\u001b[0;34m.\u001b[0m\u001b[0mfit\u001b[0m\u001b[0;34m(\u001b[0m\u001b[0mX_train\u001b[0m\u001b[0;34m,\u001b[0m\u001b[0my_train\u001b[0m\u001b[0;34m,\u001b[0m\u001b[0mbatch_size\u001b[0m\u001b[0;34m=\u001b[0m\u001b[0mbatch_size\u001b[0m\u001b[0;34m,\u001b[0m\u001b[0mepochs\u001b[0m\u001b[0;34m=\u001b[0m\u001b[0mnum_epoch\u001b[0m\u001b[0;34m,\u001b[0m\u001b[0mverbose\u001b[0m\u001b[0;34m=\u001b[0m\u001b[0;36m1\u001b[0m\u001b[0;34m,\u001b[0m\u001b[0mvalidation_data\u001b[0m\u001b[0;34m=\u001b[0m\u001b[0;34m(\u001b[0m\u001b[0mX_val\u001b[0m\u001b[0;34m,\u001b[0m\u001b[0my_val\u001b[0m\u001b[0;34m)\u001b[0m\u001b[0;34m,\u001b[0m \u001b[0mcallbacks\u001b[0m\u001b[0;34m=\u001b[0m\u001b[0;34m[\u001b[0m\u001b[0mearly_stop\u001b[0m\u001b[0;34m]\u001b[0m\u001b[0;34m)\u001b[0m\u001b[0;34m\u001b[0m\u001b[0;34m\u001b[0m\u001b[0m\n\u001b[0;32m---> 11\u001b[0;31m \u001b[0mscore\u001b[0m \u001b[0;34m=\u001b[0m \u001b[0mhistory\u001b[0m\u001b[0;34m.\u001b[0m\u001b[0mevaluate\u001b[0m\u001b[0;34m(\u001b[0m\u001b[0mX_test\u001b[0m\u001b[0;34m,\u001b[0m \u001b[0my_test\u001b[0m\u001b[0;34m)\u001b[0m\u001b[0;34m\u001b[0m\u001b[0;34m\u001b[0m\u001b[0m\n\u001b[0m\u001b[1;32m     12\u001b[0m \u001b[0mprint\u001b[0m\u001b[0;34m(\u001b[0m\u001b[0;34m\"Test loss:\"\u001b[0m\u001b[0;34m,\u001b[0m \u001b[0mscore\u001b[0m\u001b[0;34m[\u001b[0m\u001b[0;36m0\u001b[0m\u001b[0;34m]\u001b[0m\u001b[0;34m)\u001b[0m\u001b[0;34m\u001b[0m\u001b[0;34m\u001b[0m\u001b[0m\n\u001b[1;32m     13\u001b[0m \u001b[0mprint\u001b[0m\u001b[0;34m(\u001b[0m\u001b[0;34m\"Test accuracy:\"\u001b[0m\u001b[0;34m,\u001b[0m \u001b[0mscore\u001b[0m\u001b[0;34m[\u001b[0m\u001b[0;36m1\u001b[0m\u001b[0;34m]\u001b[0m\u001b[0;34m)\u001b[0m\u001b[0;34m\u001b[0m\u001b[0;34m\u001b[0m\u001b[0m\n",
            "\u001b[0;31mAttributeError\u001b[0m: 'History' object has no attribute 'evaluate'"
          ]
        }
      ]
    },
    {
      "cell_type": "code",
      "source": [
        "# Build model\n",
        "model1 = Sequential()\n",
        "model1.add(Conv2D(32, (3, 3), activation='relu', input_shape=(img_rows, img_cols, num_channel)))\n",
        "model1.add(MaxPool2D(pool_size=(2, 2)))\n",
        "model1.add(Dropout(0.3))\n",
        "\n",
        "model1.add(Conv2D(64, (3, 3), activation='relu'))\n",
        "model1.add(MaxPool2D(pool_size=(2, 2)))\n",
        "model1.add(Dropout(0.3))\n",
        "\n",
        "model1.add(Flatten())\n",
        "model1.add(Dense(256, activation='relu', kernel_regularizer=l2(0.01)))\n",
        "model1.add(Dropout(0.5))\n",
        "model1.add(Dense(num_classes, activation='softmax', kernel_regularizer=l2(0.01)))\n",
        "\n",
        "model1.compile(loss='categorical_crossentropy', optimizer='adam', metrics=['accuracy'])\n",
        "\n",
        "model1.summary()"
      ],
      "metadata": {
        "colab": {
          "base_uri": "https://localhost:8080/",
          "height": 449
        },
        "id": "gtiWb45eDK5K",
        "outputId": "48ab54ad-f84a-4f5a-e2eb-8647e183481b",
        "collapsed": true
      },
      "execution_count": 9,
      "outputs": [
        {
          "output_type": "display_data",
          "data": {
            "text/plain": [
              "\u001b[1mModel: \"sequential_1\"\u001b[0m\n"
            ],
            "text/html": [
              "<pre style=\"white-space:pre;overflow-x:auto;line-height:normal;font-family:Menlo,'DejaVu Sans Mono',consolas,'Courier New',monospace\"><span style=\"font-weight: bold\">Model: \"sequential_1\"</span>\n",
              "</pre>\n"
            ]
          },
          "metadata": {}
        },
        {
          "output_type": "display_data",
          "data": {
            "text/plain": [
              "┏━━━━━━━━━━━━━━━━━━━━━━━━━━━━━━━━━━━━━━┳━━━━━━━━━━━━━━━━━━━━━━━━━━━━━┳━━━━━━━━━━━━━━━━━┓\n",
              "┃\u001b[1m \u001b[0m\u001b[1mLayer (type)                        \u001b[0m\u001b[1m \u001b[0m┃\u001b[1m \u001b[0m\u001b[1mOutput Shape               \u001b[0m\u001b[1m \u001b[0m┃\u001b[1m \u001b[0m\u001b[1m        Param #\u001b[0m\u001b[1m \u001b[0m┃\n",
              "┡━━━━━━━━━━━━━━━━━━━━━━━━━━━━━━━━━━━━━━╇━━━━━━━━━━━━━━━━━━━━━━━━━━━━━╇━━━━━━━━━━━━━━━━━┩\n",
              "│ conv2d_2 (\u001b[38;5;33mConv2D\u001b[0m)                    │ (\u001b[38;5;45mNone\u001b[0m, \u001b[38;5;34m222\u001b[0m, \u001b[38;5;34m222\u001b[0m, \u001b[38;5;34m32\u001b[0m)        │             \u001b[38;5;34m896\u001b[0m │\n",
              "├──────────────────────────────────────┼─────────────────────────────┼─────────────────┤\n",
              "│ max_pooling2d_2 (\u001b[38;5;33mMaxPooling2D\u001b[0m)       │ (\u001b[38;5;45mNone\u001b[0m, \u001b[38;5;34m111\u001b[0m, \u001b[38;5;34m111\u001b[0m, \u001b[38;5;34m32\u001b[0m)        │               \u001b[38;5;34m0\u001b[0m │\n",
              "├──────────────────────────────────────┼─────────────────────────────┼─────────────────┤\n",
              "│ dropout_5 (\u001b[38;5;33mDropout\u001b[0m)                  │ (\u001b[38;5;45mNone\u001b[0m, \u001b[38;5;34m111\u001b[0m, \u001b[38;5;34m111\u001b[0m, \u001b[38;5;34m32\u001b[0m)        │               \u001b[38;5;34m0\u001b[0m │\n",
              "├──────────────────────────────────────┼─────────────────────────────┼─────────────────┤\n",
              "│ conv2d_3 (\u001b[38;5;33mConv2D\u001b[0m)                    │ (\u001b[38;5;45mNone\u001b[0m, \u001b[38;5;34m109\u001b[0m, \u001b[38;5;34m109\u001b[0m, \u001b[38;5;34m64\u001b[0m)        │          \u001b[38;5;34m18,496\u001b[0m │\n",
              "├──────────────────────────────────────┼─────────────────────────────┼─────────────────┤\n",
              "│ max_pooling2d_3 (\u001b[38;5;33mMaxPooling2D\u001b[0m)       │ (\u001b[38;5;45mNone\u001b[0m, \u001b[38;5;34m54\u001b[0m, \u001b[38;5;34m54\u001b[0m, \u001b[38;5;34m64\u001b[0m)          │               \u001b[38;5;34m0\u001b[0m │\n",
              "├──────────────────────────────────────┼─────────────────────────────┼─────────────────┤\n",
              "│ dropout_6 (\u001b[38;5;33mDropout\u001b[0m)                  │ (\u001b[38;5;45mNone\u001b[0m, \u001b[38;5;34m54\u001b[0m, \u001b[38;5;34m54\u001b[0m, \u001b[38;5;34m64\u001b[0m)          │               \u001b[38;5;34m0\u001b[0m │\n",
              "├──────────────────────────────────────┼─────────────────────────────┼─────────────────┤\n",
              "│ flatten_1 (\u001b[38;5;33mFlatten\u001b[0m)                  │ (\u001b[38;5;45mNone\u001b[0m, \u001b[38;5;34m186624\u001b[0m)              │               \u001b[38;5;34m0\u001b[0m │\n",
              "├──────────────────────────────────────┼─────────────────────────────┼─────────────────┤\n",
              "│ dense_6 (\u001b[38;5;33mDense\u001b[0m)                      │ (\u001b[38;5;45mNone\u001b[0m, \u001b[38;5;34m256\u001b[0m)                 │      \u001b[38;5;34m47,776,000\u001b[0m │\n",
              "├──────────────────────────────────────┼─────────────────────────────┼─────────────────┤\n",
              "│ dropout_7 (\u001b[38;5;33mDropout\u001b[0m)                  │ (\u001b[38;5;45mNone\u001b[0m, \u001b[38;5;34m256\u001b[0m)                 │               \u001b[38;5;34m0\u001b[0m │\n",
              "├──────────────────────────────────────┼─────────────────────────────┼─────────────────┤\n",
              "│ dense_7 (\u001b[38;5;33mDense\u001b[0m)                      │ (\u001b[38;5;45mNone\u001b[0m, \u001b[38;5;34m5\u001b[0m)                   │           \u001b[38;5;34m1,285\u001b[0m │\n",
              "└──────────────────────────────────────┴─────────────────────────────┴─────────────────┘\n"
            ],
            "text/html": [
              "<pre style=\"white-space:pre;overflow-x:auto;line-height:normal;font-family:Menlo,'DejaVu Sans Mono',consolas,'Courier New',monospace\">┏━━━━━━━━━━━━━━━━━━━━━━━━━━━━━━━━━━━━━━┳━━━━━━━━━━━━━━━━━━━━━━━━━━━━━┳━━━━━━━━━━━━━━━━━┓\n",
              "┃<span style=\"font-weight: bold\"> Layer (type)                         </span>┃<span style=\"font-weight: bold\"> Output Shape                </span>┃<span style=\"font-weight: bold\">         Param # </span>┃\n",
              "┡━━━━━━━━━━━━━━━━━━━━━━━━━━━━━━━━━━━━━━╇━━━━━━━━━━━━━━━━━━━━━━━━━━━━━╇━━━━━━━━━━━━━━━━━┩\n",
              "│ conv2d_2 (<span style=\"color: #0087ff; text-decoration-color: #0087ff\">Conv2D</span>)                    │ (<span style=\"color: #00d7ff; text-decoration-color: #00d7ff\">None</span>, <span style=\"color: #00af00; text-decoration-color: #00af00\">222</span>, <span style=\"color: #00af00; text-decoration-color: #00af00\">222</span>, <span style=\"color: #00af00; text-decoration-color: #00af00\">32</span>)        │             <span style=\"color: #00af00; text-decoration-color: #00af00\">896</span> │\n",
              "├──────────────────────────────────────┼─────────────────────────────┼─────────────────┤\n",
              "│ max_pooling2d_2 (<span style=\"color: #0087ff; text-decoration-color: #0087ff\">MaxPooling2D</span>)       │ (<span style=\"color: #00d7ff; text-decoration-color: #00d7ff\">None</span>, <span style=\"color: #00af00; text-decoration-color: #00af00\">111</span>, <span style=\"color: #00af00; text-decoration-color: #00af00\">111</span>, <span style=\"color: #00af00; text-decoration-color: #00af00\">32</span>)        │               <span style=\"color: #00af00; text-decoration-color: #00af00\">0</span> │\n",
              "├──────────────────────────────────────┼─────────────────────────────┼─────────────────┤\n",
              "│ dropout_5 (<span style=\"color: #0087ff; text-decoration-color: #0087ff\">Dropout</span>)                  │ (<span style=\"color: #00d7ff; text-decoration-color: #00d7ff\">None</span>, <span style=\"color: #00af00; text-decoration-color: #00af00\">111</span>, <span style=\"color: #00af00; text-decoration-color: #00af00\">111</span>, <span style=\"color: #00af00; text-decoration-color: #00af00\">32</span>)        │               <span style=\"color: #00af00; text-decoration-color: #00af00\">0</span> │\n",
              "├──────────────────────────────────────┼─────────────────────────────┼─────────────────┤\n",
              "│ conv2d_3 (<span style=\"color: #0087ff; text-decoration-color: #0087ff\">Conv2D</span>)                    │ (<span style=\"color: #00d7ff; text-decoration-color: #00d7ff\">None</span>, <span style=\"color: #00af00; text-decoration-color: #00af00\">109</span>, <span style=\"color: #00af00; text-decoration-color: #00af00\">109</span>, <span style=\"color: #00af00; text-decoration-color: #00af00\">64</span>)        │          <span style=\"color: #00af00; text-decoration-color: #00af00\">18,496</span> │\n",
              "├──────────────────────────────────────┼─────────────────────────────┼─────────────────┤\n",
              "│ max_pooling2d_3 (<span style=\"color: #0087ff; text-decoration-color: #0087ff\">MaxPooling2D</span>)       │ (<span style=\"color: #00d7ff; text-decoration-color: #00d7ff\">None</span>, <span style=\"color: #00af00; text-decoration-color: #00af00\">54</span>, <span style=\"color: #00af00; text-decoration-color: #00af00\">54</span>, <span style=\"color: #00af00; text-decoration-color: #00af00\">64</span>)          │               <span style=\"color: #00af00; text-decoration-color: #00af00\">0</span> │\n",
              "├──────────────────────────────────────┼─────────────────────────────┼─────────────────┤\n",
              "│ dropout_6 (<span style=\"color: #0087ff; text-decoration-color: #0087ff\">Dropout</span>)                  │ (<span style=\"color: #00d7ff; text-decoration-color: #00d7ff\">None</span>, <span style=\"color: #00af00; text-decoration-color: #00af00\">54</span>, <span style=\"color: #00af00; text-decoration-color: #00af00\">54</span>, <span style=\"color: #00af00; text-decoration-color: #00af00\">64</span>)          │               <span style=\"color: #00af00; text-decoration-color: #00af00\">0</span> │\n",
              "├──────────────────────────────────────┼─────────────────────────────┼─────────────────┤\n",
              "│ flatten_1 (<span style=\"color: #0087ff; text-decoration-color: #0087ff\">Flatten</span>)                  │ (<span style=\"color: #00d7ff; text-decoration-color: #00d7ff\">None</span>, <span style=\"color: #00af00; text-decoration-color: #00af00\">186624</span>)              │               <span style=\"color: #00af00; text-decoration-color: #00af00\">0</span> │\n",
              "├──────────────────────────────────────┼─────────────────────────────┼─────────────────┤\n",
              "│ dense_6 (<span style=\"color: #0087ff; text-decoration-color: #0087ff\">Dense</span>)                      │ (<span style=\"color: #00d7ff; text-decoration-color: #00d7ff\">None</span>, <span style=\"color: #00af00; text-decoration-color: #00af00\">256</span>)                 │      <span style=\"color: #00af00; text-decoration-color: #00af00\">47,776,000</span> │\n",
              "├──────────────────────────────────────┼─────────────────────────────┼─────────────────┤\n",
              "│ dropout_7 (<span style=\"color: #0087ff; text-decoration-color: #0087ff\">Dropout</span>)                  │ (<span style=\"color: #00d7ff; text-decoration-color: #00d7ff\">None</span>, <span style=\"color: #00af00; text-decoration-color: #00af00\">256</span>)                 │               <span style=\"color: #00af00; text-decoration-color: #00af00\">0</span> │\n",
              "├──────────────────────────────────────┼─────────────────────────────┼─────────────────┤\n",
              "│ dense_7 (<span style=\"color: #0087ff; text-decoration-color: #0087ff\">Dense</span>)                      │ (<span style=\"color: #00d7ff; text-decoration-color: #00d7ff\">None</span>, <span style=\"color: #00af00; text-decoration-color: #00af00\">5</span>)                   │           <span style=\"color: #00af00; text-decoration-color: #00af00\">1,285</span> │\n",
              "└──────────────────────────────────────┴─────────────────────────────┴─────────────────┘\n",
              "</pre>\n"
            ]
          },
          "metadata": {}
        },
        {
          "output_type": "display_data",
          "data": {
            "text/plain": [
              "\u001b[1m Total params: \u001b[0m\u001b[38;5;34m47,796,677\u001b[0m (182.33 MB)\n"
            ],
            "text/html": [
              "<pre style=\"white-space:pre;overflow-x:auto;line-height:normal;font-family:Menlo,'DejaVu Sans Mono',consolas,'Courier New',monospace\"><span style=\"font-weight: bold\"> Total params: </span><span style=\"color: #00af00; text-decoration-color: #00af00\">47,796,677</span> (182.33 MB)\n",
              "</pre>\n"
            ]
          },
          "metadata": {}
        },
        {
          "output_type": "display_data",
          "data": {
            "text/plain": [
              "\u001b[1m Trainable params: \u001b[0m\u001b[38;5;34m47,796,677\u001b[0m (182.33 MB)\n"
            ],
            "text/html": [
              "<pre style=\"white-space:pre;overflow-x:auto;line-height:normal;font-family:Menlo,'DejaVu Sans Mono',consolas,'Courier New',monospace\"><span style=\"font-weight: bold\"> Trainable params: </span><span style=\"color: #00af00; text-decoration-color: #00af00\">47,796,677</span> (182.33 MB)\n",
              "</pre>\n"
            ]
          },
          "metadata": {}
        },
        {
          "output_type": "display_data",
          "data": {
            "text/plain": [
              "\u001b[1m Non-trainable params: \u001b[0m\u001b[38;5;34m0\u001b[0m (0.00 B)\n"
            ],
            "text/html": [
              "<pre style=\"white-space:pre;overflow-x:auto;line-height:normal;font-family:Menlo,'DejaVu Sans Mono',consolas,'Courier New',monospace\"><span style=\"font-weight: bold\"> Non-trainable params: </span><span style=\"color: #00af00; text-decoration-color: #00af00\">0</span> (0.00 B)\n",
              "</pre>\n"
            ]
          },
          "metadata": {}
        }
      ]
    },
    {
      "cell_type": "code",
      "source": [
        "# Train model ko tăng cường dữ liệu\n",
        "num_epoch = 50\n",
        "batch_size = 32\n",
        "early_stop = EarlyStopping(\n",
        "    monitor='val_loss',  # Theo dõi tổn thất trên tập kiểm định\n",
        "    patience=5,          # Dừng nếu val_loss không cải thiện sau 5 epoch\n",
        "    restore_best_weights=True  # Khôi phục trọng số tốt nhất\n",
        ")\n",
        "hist1 = model1.fit(\n",
        "    X_train,y_train,batch_size=batch_size,\n",
        "    steps_per_epoch=len(X_train) // batch_size,\n",
        "    epochs=num_epoch,\n",
        "    validation_data=(X_val, y_val),\n",
        "    callbacks=[early_stop],\n",
        "    verbose=1\n",
        ")\n",
        "\n",
        "# Evaluate model\n",
        "score = model1.evaluate(X_test, y_test)\n",
        "print(\"Test loss:\", score[0])\n",
        "print(\"Test accuracy:\", score[1])"
      ],
      "metadata": {
        "colab": {
          "base_uri": "https://localhost:8080/"
        },
        "id": "c69brmc5wI-S",
        "outputId": "cdfb18de-e38d-429b-8480-e9cc24c7ed4f"
      },
      "execution_count": 11,
      "outputs": [
        {
          "output_type": "stream",
          "name": "stdout",
          "text": [
            "Epoch 1/50\n",
            "\u001b[1m5/5\u001b[0m \u001b[32m━━━━━━━━━━━━━━━━━━━━\u001b[0m\u001b[37m\u001b[0m \u001b[1m27s\u001b[0m 5s/step - accuracy: 0.2393 - loss: 20.3506 - val_accuracy: 0.4146 - val_loss: 7.0045\n",
            "Epoch 2/50\n",
            "\u001b[1m1/5\u001b[0m \u001b[32m━━━━\u001b[0m\u001b[37m━━━━━━━━━━━━━━━━\u001b[0m \u001b[1m15s\u001b[0m 4s/step - accuracy: 0.3793 - loss: 12.6422"
          ]
        },
        {
          "output_type": "stream",
          "name": "stderr",
          "text": [
            "/usr/lib/python3.10/contextlib.py:153: UserWarning: Your input ran out of data; interrupting training. Make sure that your dataset or generator can generate at least `steps_per_epoch * epochs` batches. You may need to use the `.repeat()` function when building your dataset.\n",
            "  self.gen.throw(typ, value, traceback)\n"
          ]
        },
        {
          "output_type": "stream",
          "name": "stdout",
          "text": [
            "\b\b\b\b\b\b\b\b\b\b\b\b\b\b\b\b\b\b\b\b\b\b\b\b\b\b\b\b\b\b\b\b\b\b\b\b\b\b\b\b\b\b\b\b\b\b\b\b\b\b\b\b\b\b\b\b\b\b\b\b\b\b\b\b\b\b\b\b\b\b\b\r\u001b[1m5/5\u001b[0m \u001b[32m━━━━━━━━━━━━━━━━━━━━\u001b[0m\u001b[37m\u001b[0m \u001b[1m7s\u001b[0m 807ms/step - accuracy: 0.3793 - loss: 12.6422 - val_accuracy: 0.2195 - val_loss: 6.9778\n",
            "Epoch 3/50\n",
            "\u001b[1m5/5\u001b[0m \u001b[32m━━━━━━━━━━━━━━━━━━━━\u001b[0m\u001b[37m\u001b[0m \u001b[1m35s\u001b[0m 5s/step - accuracy: 0.2457 - loss: 9.5385 - val_accuracy: 0.4146 - val_loss: 7.6786\n",
            "Epoch 4/50\n",
            "\u001b[1m5/5\u001b[0m \u001b[32m━━━━━━━━━━━━━━━━━━━━\u001b[0m\u001b[37m\u001b[0m \u001b[1m5s\u001b[0m 396ms/step - accuracy: 0.3793 - loss: 7.6814 - val_accuracy: 0.4146 - val_loss: 7.7162\n",
            "Epoch 5/50\n",
            "\u001b[1m5/5\u001b[0m \u001b[32m━━━━━━━━━━━━━━━━━━━━\u001b[0m\u001b[37m\u001b[0m \u001b[1m24s\u001b[0m 5s/step - accuracy: 0.3562 - loss: 7.6209 - val_accuracy: 0.4146 - val_loss: 7.4823\n",
            "Epoch 6/50\n",
            "\u001b[1m5/5\u001b[0m \u001b[32m━━━━━━━━━━━━━━━━━━━━\u001b[0m\u001b[37m\u001b[0m \u001b[1m6s\u001b[0m 399ms/step - accuracy: 0.4828 - loss: 7.3563 - val_accuracy: 0.4146 - val_loss: 7.3794\n",
            "Epoch 7/50\n",
            "\u001b[1m5/5\u001b[0m \u001b[32m━━━━━━━━━━━━━━━━━━━━\u001b[0m\u001b[37m\u001b[0m \u001b[1m26s\u001b[0m 6s/step - accuracy: 0.3856 - loss: 7.1237 - val_accuracy: 0.4146 - val_loss: 6.7152\n",
            "Epoch 8/50\n",
            "\u001b[1m5/5\u001b[0m \u001b[32m━━━━━━━━━━━━━━━━━━━━\u001b[0m\u001b[37m\u001b[0m \u001b[1m6s\u001b[0m 416ms/step - accuracy: 0.4828 - loss: 6.6589 - val_accuracy: 0.4146 - val_loss: 6.5968\n",
            "Epoch 9/50\n",
            "\u001b[1m5/5\u001b[0m \u001b[32m━━━━━━━━━━━━━━━━━━━━\u001b[0m\u001b[37m\u001b[0m \u001b[1m22s\u001b[0m 5s/step - accuracy: 0.4545 - loss: 6.3726 - val_accuracy: 0.4390 - val_loss: 6.0315\n",
            "Epoch 10/50\n",
            "\u001b[1m5/5\u001b[0m \u001b[32m━━━━━━━━━━━━━━━━━━━━\u001b[0m\u001b[37m\u001b[0m \u001b[1m8s\u001b[0m 685ms/step - accuracy: 0.4138 - loss: 5.9719 - val_accuracy: 0.4146 - val_loss: 5.9036\n",
            "Epoch 11/50\n",
            "\u001b[1m5/5\u001b[0m \u001b[32m━━━━━━━━━━━━━━━━━━━━\u001b[0m\u001b[37m\u001b[0m \u001b[1m35s\u001b[0m 5s/step - accuracy: 0.4484 - loss: 5.4977 - val_accuracy: 0.5854 - val_loss: 5.1863\n",
            "Epoch 12/50\n",
            "\u001b[1m5/5\u001b[0m \u001b[32m━━━━━━━━━━━━━━━━━━━━\u001b[0m\u001b[37m\u001b[0m \u001b[1m5s\u001b[0m 410ms/step - accuracy: 0.4138 - loss: 5.1507 - val_accuracy: 0.5610 - val_loss: 5.0778\n",
            "Epoch 13/50\n",
            "\u001b[1m5/5\u001b[0m \u001b[32m━━━━━━━━━━━━━━━━━━━━\u001b[0m\u001b[37m\u001b[0m \u001b[1m37s\u001b[0m 5s/step - accuracy: 0.5581 - loss: 4.6747 - val_accuracy: 0.4634 - val_loss: 4.5862\n",
            "Epoch 14/50\n",
            "\u001b[1m5/5\u001b[0m \u001b[32m━━━━━━━━━━━━━━━━━━━━\u001b[0m\u001b[37m\u001b[0m \u001b[1m5s\u001b[0m 411ms/step - accuracy: 0.5517 - loss: 4.4290 - val_accuracy: 0.5122 - val_loss: 4.4843\n",
            "Epoch 15/50\n",
            "\u001b[1m5/5\u001b[0m \u001b[32m━━━━━━━━━━━━━━━━━━━━\u001b[0m\u001b[37m\u001b[0m \u001b[1m36s\u001b[0m 5s/step - accuracy: 0.5653 - loss: 4.0526 - val_accuracy: 0.5122 - val_loss: 3.9702\n",
            "Epoch 16/50\n",
            "\u001b[1m5/5\u001b[0m \u001b[32m━━━━━━━━━━━━━━━━━━━━\u001b[0m\u001b[37m\u001b[0m \u001b[1m8s\u001b[0m 554ms/step - accuracy: 0.6207 - loss: 3.6917 - val_accuracy: 0.5366 - val_loss: 3.8854\n",
            "Epoch 17/50\n",
            "\u001b[1m5/5\u001b[0m \u001b[32m━━━━━━━━━━━━━━━━━━━━\u001b[0m\u001b[37m\u001b[0m \u001b[1m33s\u001b[0m 5s/step - accuracy: 0.5547 - loss: 3.6534 - val_accuracy: 0.5122 - val_loss: 3.5260\n",
            "Epoch 18/50\n",
            "\u001b[1m5/5\u001b[0m \u001b[32m━━━━━━━━━━━━━━━━━━━━\u001b[0m\u001b[37m\u001b[0m \u001b[1m5s\u001b[0m 410ms/step - accuracy: 0.6897 - loss: 3.2271 - val_accuracy: 0.5122 - val_loss: 3.4613\n",
            "Epoch 19/50\n",
            "\u001b[1m5/5\u001b[0m \u001b[32m━━━━━━━━━━━━━━━━━━━━\u001b[0m\u001b[37m\u001b[0m \u001b[1m35s\u001b[0m 5s/step - accuracy: 0.6294 - loss: 3.0921 - val_accuracy: 0.4634 - val_loss: 3.2261\n",
            "Epoch 20/50\n",
            "\u001b[1m5/5\u001b[0m \u001b[32m━━━━━━━━━━━━━━━━━━━━\u001b[0m\u001b[37m\u001b[0m \u001b[1m6s\u001b[0m 428ms/step - accuracy: 0.5862 - loss: 3.0033 - val_accuracy: 0.4390 - val_loss: 3.2010\n",
            "Epoch 21/50\n",
            "\u001b[1m5/5\u001b[0m \u001b[32m━━━━━━━━━━━━━━━━━━━━\u001b[0m\u001b[37m\u001b[0m \u001b[1m33s\u001b[0m 5s/step - accuracy: 0.6842 - loss: 2.7864 - val_accuracy: 0.4878 - val_loss: 2.9106\n",
            "Epoch 22/50\n",
            "\u001b[1m5/5\u001b[0m \u001b[32m━━━━━━━━━━━━━━━━━━━━\u001b[0m\u001b[37m\u001b[0m \u001b[1m7s\u001b[0m 710ms/step - accuracy: 0.6897 - loss: 2.5244 - val_accuracy: 0.5122 - val_loss: 2.8285\n",
            "Epoch 23/50\n",
            "\u001b[1m5/5\u001b[0m \u001b[32m━━━━━━━━━━━━━━━━━━━━\u001b[0m\u001b[37m\u001b[0m \u001b[1m35s\u001b[0m 4s/step - accuracy: 0.6866 - loss: 2.4173 - val_accuracy: 0.4878 - val_loss: 2.7202\n",
            "Epoch 24/50\n",
            "\u001b[1m5/5\u001b[0m \u001b[32m━━━━━━━━━━━━━━━━━━━━\u001b[0m\u001b[37m\u001b[0m \u001b[1m5s\u001b[0m 416ms/step - accuracy: 0.7241 - loss: 2.2513 - val_accuracy: 0.5122 - val_loss: 2.7137\n",
            "Epoch 25/50\n",
            "\u001b[1m5/5\u001b[0m \u001b[32m━━━━━━━━━━━━━━━━━━━━\u001b[0m\u001b[37m\u001b[0m \u001b[1m38s\u001b[0m 5s/step - accuracy: 0.6886 - loss: 2.3249 - val_accuracy: 0.5854 - val_loss: 2.5306\n",
            "Epoch 26/50\n",
            "\u001b[1m5/5\u001b[0m \u001b[32m━━━━━━━━━━━━━━━━━━━━\u001b[0m\u001b[37m\u001b[0m \u001b[1m5s\u001b[0m 409ms/step - accuracy: 0.6897 - loss: 2.1886 - val_accuracy: 0.6098 - val_loss: 2.5070\n",
            "Epoch 27/50\n",
            "\u001b[1m5/5\u001b[0m \u001b[32m━━━━━━━━━━━━━━━━━━━━\u001b[0m\u001b[37m\u001b[0m \u001b[1m35s\u001b[0m 5s/step - accuracy: 0.6625 - loss: 2.1923 - val_accuracy: 0.4390 - val_loss: 2.4170\n",
            "Epoch 28/50\n",
            "\u001b[1m5/5\u001b[0m \u001b[32m━━━━━━━━━━━━━━━━━━━━\u001b[0m\u001b[37m\u001b[0m \u001b[1m6s\u001b[0m 415ms/step - accuracy: 0.8276 - loss: 1.8918 - val_accuracy: 0.4146 - val_loss: 2.3954\n",
            "Epoch 29/50\n",
            "\u001b[1m5/5\u001b[0m \u001b[32m━━━━━━━━━━━━━━━━━━━━\u001b[0m\u001b[37m\u001b[0m \u001b[1m22s\u001b[0m 5s/step - accuracy: 0.7135 - loss: 1.9729 - val_accuracy: 0.4634 - val_loss: 2.2519\n",
            "Epoch 30/50\n",
            "\u001b[1m5/5\u001b[0m \u001b[32m━━━━━━━━━━━━━━━━━━━━\u001b[0m\u001b[37m\u001b[0m \u001b[1m9s\u001b[0m 843ms/step - accuracy: 0.7586 - loss: 1.8200 - val_accuracy: 0.4634 - val_loss: 2.2410\n",
            "Epoch 31/50\n",
            "\u001b[1m5/5\u001b[0m \u001b[32m━━━━━━━━━━━━━━━━━━━━\u001b[0m\u001b[37m\u001b[0m \u001b[1m34s\u001b[0m 5s/step - accuracy: 0.7792 - loss: 1.8188 - val_accuracy: 0.5122 - val_loss: 2.2818\n",
            "Epoch 32/50\n",
            "\u001b[1m5/5\u001b[0m \u001b[32m━━━━━━━━━━━━━━━━━━━━\u001b[0m\u001b[37m\u001b[0m \u001b[1m5s\u001b[0m 419ms/step - accuracy: 0.7931 - loss: 1.7561 - val_accuracy: 0.5122 - val_loss: 2.3133\n",
            "Epoch 33/50\n",
            "\u001b[1m5/5\u001b[0m \u001b[32m━━━━━━━━━━━━━━━━━━━━\u001b[0m\u001b[37m\u001b[0m \u001b[1m23s\u001b[0m 5s/step - accuracy: 0.6987 - loss: 1.8033 - val_accuracy: 0.5122 - val_loss: 2.1552\n",
            "Epoch 34/50\n",
            "\u001b[1m5/5\u001b[0m \u001b[32m━━━━━━━━━━━━━━━━━━━━\u001b[0m\u001b[37m\u001b[0m \u001b[1m6s\u001b[0m 413ms/step - accuracy: 0.8621 - loss: 1.6071 - val_accuracy: 0.5122 - val_loss: 2.1501\n",
            "Epoch 35/50\n",
            "\u001b[1m5/5\u001b[0m \u001b[32m━━━━━━━━━━━━━━━━━━━━\u001b[0m\u001b[37m\u001b[0m \u001b[1m33s\u001b[0m 5s/step - accuracy: 0.7294 - loss: 1.7430 - val_accuracy: 0.6098 - val_loss: 2.1331\n",
            "Epoch 36/50\n",
            "\u001b[1m5/5\u001b[0m \u001b[32m━━━━━━━━━━━━━━━━━━━━\u001b[0m\u001b[37m\u001b[0m \u001b[1m7s\u001b[0m 711ms/step - accuracy: 0.5862 - loss: 1.9604 - val_accuracy: 0.5366 - val_loss: 2.1104\n",
            "Epoch 37/50\n",
            "\u001b[1m5/5\u001b[0m \u001b[32m━━━━━━━━━━━━━━━━━━━━\u001b[0m\u001b[37m\u001b[0m \u001b[1m38s\u001b[0m 5s/step - accuracy: 0.7279 - loss: 1.7045 - val_accuracy: 0.4146 - val_loss: 2.0876\n",
            "Epoch 38/50\n",
            "\u001b[1m5/5\u001b[0m \u001b[32m━━━━━━━━━━━━━━━━━━━━\u001b[0m\u001b[37m\u001b[0m \u001b[1m7s\u001b[0m 737ms/step - accuracy: 0.8621 - loss: 1.5575 - val_accuracy: 0.4146 - val_loss: 2.0431\n",
            "Epoch 39/50\n",
            "\u001b[1m5/5\u001b[0m \u001b[32m━━━━━━━━━━━━━━━━━━━━\u001b[0m\u001b[37m\u001b[0m \u001b[1m33s\u001b[0m 5s/step - accuracy: 0.7963 - loss: 1.5685 - val_accuracy: 0.5610 - val_loss: 2.0216\n",
            "Epoch 40/50\n",
            "\u001b[1m5/5\u001b[0m \u001b[32m━━━━━━━━━━━━━━━━━━━━\u001b[0m\u001b[37m\u001b[0m \u001b[1m5s\u001b[0m 413ms/step - accuracy: 0.7931 - loss: 1.2776 - val_accuracy: 0.4878 - val_loss: 2.0162\n",
            "Epoch 41/50\n",
            "\u001b[1m5/5\u001b[0m \u001b[32m━━━━━━━━━━━━━━━━━━━━\u001b[0m\u001b[37m\u001b[0m \u001b[1m23s\u001b[0m 5s/step - accuracy: 0.7575 - loss: 1.4460 - val_accuracy: 0.4634 - val_loss: 2.0233\n",
            "Epoch 42/50\n",
            "\u001b[1m5/5\u001b[0m \u001b[32m━━━━━━━━━━━━━━━━━━━━\u001b[0m\u001b[37m\u001b[0m \u001b[1m6s\u001b[0m 398ms/step - accuracy: 0.7586 - loss: 1.5351 - val_accuracy: 0.4878 - val_loss: 2.0277\n",
            "Epoch 43/50\n",
            "\u001b[1m5/5\u001b[0m \u001b[32m━━━━━━━━━━━━━━━━━━━━\u001b[0m\u001b[37m\u001b[0m \u001b[1m22s\u001b[0m 5s/step - accuracy: 0.8181 - loss: 1.3734 - val_accuracy: 0.5366 - val_loss: 1.9447\n",
            "Epoch 44/50\n",
            "\u001b[1m5/5\u001b[0m \u001b[32m━━━━━━━━━━━━━━━━━━━━\u001b[0m\u001b[37m\u001b[0m \u001b[1m8s\u001b[0m 674ms/step - accuracy: 0.7586 - loss: 1.5389 - val_accuracy: 0.4878 - val_loss: 1.9390\n",
            "Epoch 45/50\n",
            "\u001b[1m5/5\u001b[0m \u001b[32m━━━━━━━━━━━━━━━━━━━━\u001b[0m\u001b[37m\u001b[0m \u001b[1m22s\u001b[0m 5s/step - accuracy: 0.8182 - loss: 1.2611 - val_accuracy: 0.5122 - val_loss: 1.8973\n",
            "Epoch 46/50\n",
            "\u001b[1m5/5\u001b[0m \u001b[32m━━━━━━━━━━━━━━━━━━━━\u001b[0m\u001b[37m\u001b[0m \u001b[1m6s\u001b[0m 685ms/step - accuracy: 0.8621 - loss: 1.2839 - val_accuracy: 0.4878 - val_loss: 1.8761\n",
            "Epoch 47/50\n",
            "\u001b[1m5/5\u001b[0m \u001b[32m━━━━━━━━━━━━━━━━━━━━\u001b[0m\u001b[37m\u001b[0m \u001b[1m36s\u001b[0m 5s/step - accuracy: 0.8446 - loss: 1.1827 - val_accuracy: 0.5366 - val_loss: 2.0524\n",
            "Epoch 48/50\n",
            "\u001b[1m5/5\u001b[0m \u001b[32m━━━━━━━━━━━━━━━━━━━━\u001b[0m\u001b[37m\u001b[0m \u001b[1m5s\u001b[0m 397ms/step - accuracy: 0.7931 - loss: 1.2111 - val_accuracy: 0.5122 - val_loss: 1.9452\n",
            "Epoch 49/50\n",
            "\u001b[1m5/5\u001b[0m \u001b[32m━━━━━━━━━━━━━━━━━━━━\u001b[0m\u001b[37m\u001b[0m \u001b[1m36s\u001b[0m 5s/step - accuracy: 0.8566 - loss: 1.1990 - val_accuracy: 0.4878 - val_loss: 1.8263\n",
            "Epoch 50/50\n",
            "\u001b[1m5/5\u001b[0m \u001b[32m━━━━━━━━━━━━━━━━━━━━\u001b[0m\u001b[37m\u001b[0m \u001b[1m5s\u001b[0m 397ms/step - accuracy: 0.8621 - loss: 1.2721 - val_accuracy: 0.5122 - val_loss: 1.8345\n",
            "\u001b[1m2/2\u001b[0m \u001b[32m━━━━━━━━━━━━━━━━━━━━\u001b[0m\u001b[37m\u001b[0m \u001b[1m1s\u001b[0m 321ms/step - accuracy: 0.5104 - loss: 2.0241\n",
            "Test loss: 2.0460174083709717\n",
            "Test accuracy: 0.5\n"
          ]
        }
      ]
    },
    {
      "cell_type": "code",
      "source": [
        "# Train model tăng cường dữ liệu\n",
        "num_epoch = 50\n",
        "batch_size = 32\n",
        "\n",
        "hist2 = model1.fit(\n",
        "    train_generator,\n",
        "    steps_per_epoch=len(X_train) // batch_size,\n",
        "    epochs=num_epoch,\n",
        "    validation_data=(X_val, y_val),\n",
        "    callbacks=[early_stop],\n",
        "    verbose=1\n",
        ")\n",
        "\n",
        "# Evaluate model\n",
        "score = model1.evaluate(X_test, y_test)\n",
        "print(\"Test loss:\", score[0])\n",
        "print(\"Test accuracy:\", score[1])"
      ],
      "metadata": {
        "colab": {
          "base_uri": "https://localhost:8080/"
        },
        "id": "EE_b767-wJz0",
        "outputId": "20f58443-3294-49d6-960d-039729e26ba0"
      },
      "execution_count": 12,
      "outputs": [
        {
          "output_type": "stream",
          "name": "stdout",
          "text": [
            "Epoch 1/50\n"
          ]
        },
        {
          "output_type": "stream",
          "name": "stderr",
          "text": [
            "/usr/local/lib/python3.10/dist-packages/keras/src/trainers/data_adapters/py_dataset_adapter.py:122: UserWarning: Your `PyDataset` class should call `super().__init__(**kwargs)` in its constructor. `**kwargs` can include `workers`, `use_multiprocessing`, `max_queue_size`. Do not pass these arguments to `fit()`, as they will be ignored.\n",
            "  self._warn_if_super_not_called()\n"
          ]
        },
        {
          "output_type": "stream",
          "name": "stdout",
          "text": [
            "\u001b[1m5/5\u001b[0m \u001b[32m━━━━━━━━━━━━━━━━━━━━\u001b[0m\u001b[37m\u001b[0m \u001b[1m29s\u001b[0m 5s/step - accuracy: 0.4996 - loss: 2.1870 - val_accuracy: 0.5122 - val_loss: 1.9161\n",
            "Epoch 2/50\n",
            "\u001b[1m5/5\u001b[0m \u001b[32m━━━━━━━━━━━━━━━━━━━━\u001b[0m\u001b[37m\u001b[0m \u001b[1m7s\u001b[0m 703ms/step - accuracy: 0.4688 - loss: 2.3070 - val_accuracy: 0.5122 - val_loss: 1.8931\n",
            "Epoch 3/50\n",
            "\u001b[1m5/5\u001b[0m \u001b[32m━━━━━━━━━━━━━━━━━━━━\u001b[0m\u001b[37m\u001b[0m \u001b[1m34s\u001b[0m 5s/step - accuracy: 0.3768 - loss: 2.1568 - val_accuracy: 0.6098 - val_loss: 2.0821\n",
            "Epoch 4/50\n",
            "\u001b[1m5/5\u001b[0m \u001b[32m━━━━━━━━━━━━━━━━━━━━\u001b[0m\u001b[37m\u001b[0m \u001b[1m5s\u001b[0m 397ms/step - accuracy: 0.3125 - loss: 2.2917 - val_accuracy: 0.6098 - val_loss: 2.0937\n",
            "Epoch 5/50\n",
            "\u001b[1m5/5\u001b[0m \u001b[32m━━━━━━━━━━━━━━━━━━━━\u001b[0m\u001b[37m\u001b[0m \u001b[1m34s\u001b[0m 5s/step - accuracy: 0.5027 - loss: 2.0637 - val_accuracy: 0.5610 - val_loss: 2.0323\n",
            "\u001b[1m2/2\u001b[0m \u001b[32m━━━━━━━━━━━━━━━━━━━━\u001b[0m\u001b[37m\u001b[0m \u001b[1m1s\u001b[0m 326ms/step - accuracy: 0.5646 - loss: 1.9347\n",
            "Test loss: 1.9696108102798462\n",
            "Test accuracy: 0.550000011920929\n"
          ]
        }
      ]
    }
  ]
}